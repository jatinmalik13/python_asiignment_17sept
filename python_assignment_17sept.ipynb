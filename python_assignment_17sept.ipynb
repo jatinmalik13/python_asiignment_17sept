{
 "cells": [
  {
   "cell_type": "code",
   "execution_count": 1,
   "id": "c3b331c1-5372-4f41-97da-050c5c1e9609",
   "metadata": {},
   "outputs": [],
   "source": [
    "#FOR LOOP"
   ]
  },
  {
   "cell_type": "code",
   "execution_count": 2,
   "id": "448c1d53-f8fe-423f-bba3-e4bea234722b",
   "metadata": {},
   "outputs": [
    {
     "name": "stdout",
     "output_type": "stream",
     "text": [
      "1\n",
      "2\n",
      "3\n",
      "4\n",
      "5\n",
      "6\n",
      "7\n",
      "8\n",
      "9\n",
      "10\n"
     ]
    }
   ],
   "source": [
    "#1 Write a Python program to print numbers from 1 to 10 using a for loop.\n",
    "\n",
    "#ans \n",
    "\n",
    "for i in range(1, 11):\n",
    "    print(i)\n",
    "\n"
   ]
  },
  {
   "cell_type": "code",
   "execution_count": 3,
   "id": "dd559d22-0e99-419e-a27f-adad69b9fe33",
   "metadata": {},
   "outputs": [],
   "source": [
    "#2 Explain the difference between a for loop and a while loop in Python.\n",
    "\n",
    "#ans\n",
    "\n",
    "#use a for loop when you know the number of iterations in advance and want to iterate over a sequence, and use a while loop when the number of iterations depends on a condition that may change during the loop execution. Care should be taken with while loops to avoid infinite loops by ensuring that the exit condition becomes false at some point.\n",
    "\n",
    "\n",
    "\n",
    "\n",
    "\n",
    "\n"
   ]
  },
  {
   "cell_type": "code",
   "execution_count": 5,
   "id": "00c27162-89b1-4081-b5a5-522f3e48de6b",
   "metadata": {},
   "outputs": [
    {
     "name": "stdout",
     "output_type": "stream",
     "text": [
      "The sum of numbers from 1 to 100 is: 5050\n"
     ]
    }
   ],
   "source": [
    "#3 Write a Python program to calculate the sum of all numbers from 1 to 100 using a for loop.\n",
    "\n",
    "#ans\n",
    "\n",
    "\n",
    "total_sum = 0\n",
    "\n",
    "\n",
    "for i in range(1, 101):\n",
    "\n",
    "    total_sum += i\n",
    "\n",
    "\n",
    "print(\"The sum of numbers from 1 to 100 is:\", total_sum)\n"
   ]
  },
  {
   "cell_type": "code",
   "execution_count": 6,
   "id": "482b3a6e-d114-45cb-b218-fc4a0a7c29c4",
   "metadata": {},
   "outputs": [
    {
     "name": "stdout",
     "output_type": "stream",
     "text": [
      "The square of 1 is: 1\n",
      "The square of 2 is: 4\n",
      "The square of 3 is: 9\n",
      "The square of 4 is: 16\n",
      "The square of 5 is: 25\n"
     ]
    }
   ],
   "source": [
    "#4 How do you iterate through a list using a for loop in Python?\n",
    "\n",
    "#ans \n",
    "\n",
    "my_list = [1, 2, 3, 4, 5]\n",
    "\n",
    "for element in my_list:\n",
    "    squared = element ** 2\n",
    "    print(f\"The square of {element} is: {squared}\")\n"
   ]
  },
  {
   "cell_type": "code",
   "execution_count": 7,
   "id": "9faa5c83-77aa-4fb6-b0e2-36a15801f389",
   "metadata": {},
   "outputs": [
    {
     "name": "stdout",
     "output_type": "stream",
     "text": [
      "The product of all elements in the list is: 120\n"
     ]
    }
   ],
   "source": [
    "#5 Write a Python program to find the product of all elements in a list using a for loop.\n",
    "\n",
    "#ans\n",
    "\n",
    "\n",
    "my_list = [2, 3, 4, 5]\n",
    "\n",
    "\n",
    "product = 1\n",
    "\n",
    "\n",
    "for number in my_list:\n",
    " \n",
    "    product *= number\n",
    "\n",
    "\n",
    "print(\"The product of all elements in the list is:\", product)\n"
   ]
  },
  {
   "cell_type": "code",
   "execution_count": 8,
   "id": "80399b31-661d-4854-bb99-ae618b307631",
   "metadata": {},
   "outputs": [
    {
     "name": "stdout",
     "output_type": "stream",
     "text": [
      "2\n",
      "4\n",
      "6\n",
      "8\n",
      "10\n",
      "12\n",
      "14\n",
      "16\n",
      "18\n",
      "20\n"
     ]
    }
   ],
   "source": [
    "#q6 Create a Python program that prints all even numbers from 1 to 20 using a for loop.\n",
    "\n",
    "#ans \n",
    "\n",
    "for number in range(1, 21):\n",
    "\n",
    "    if number % 2 == 0:\n",
    "      \n",
    "        print(number)\n",
    "\n"
   ]
  },
  {
   "cell_type": "code",
   "execution_count": 10,
   "id": "81b23b67-064a-4ade-a98a-b80c505e19ea",
   "metadata": {},
   "outputs": [
    {
     "name": "stdin",
     "output_type": "stream",
     "text": [
      "Enter a non-negative integer to calculate its factorial:  4\n"
     ]
    },
    {
     "name": "stdout",
     "output_type": "stream",
     "text": [
      "The factorial of 4 is: 24\n"
     ]
    }
   ],
   "source": [
    "#7 Write a Python program that calculates the factorial of a number using a for loop.\n",
    "\n",
    "#ans \n",
    "\n",
    "\n",
    "def calculate_factorial(number):\n",
    "    factorial = 1\n",
    "\n",
    "    if number < 0:\n",
    "        print(\"Factorial is not defined for negative numbers.\")\n",
    "        return None\n",
    "    \n",
    " \n",
    "    for i in range(1, number + 1):\n",
    "        factorial *= i\n",
    "\n",
    "    return factorial\n",
    "\n",
    "\n",
    "user_input = input(\"Enter a non-negative integer to calculate its factorial: \")\n",
    "\n",
    "\n",
    "if user_input.isdigit():\n",
    "    number = int(user_input)\n",
    "    result = calculate_factorial(number)\n",
    "\n",
    " \n",
    "    if result is not None:\n",
    "        print(f\"The factorial of {number} is: {result}\")\n",
    "else:\n",
    "    print(\"Invalid input. Please enter a non-negative integer.\")\n",
    "\n"
   ]
  },
  {
   "cell_type": "code",
   "execution_count": 12,
   "id": "86bdb276-463d-44c9-9e9f-be2e312a399e",
   "metadata": {},
   "outputs": [
    {
     "name": "stdout",
     "output_type": "stream",
     "text": [
      "The character 'H' has ASCII value: 72\n",
      "The character 'e' has ASCII value: 101\n",
      "The character 'l' has ASCII value: 108\n",
      "The character 'l' has ASCII value: 108\n",
      "The character 'o' has ASCII value: 111\n",
      "The character ',' has ASCII value: 44\n",
      "The character ' ' has ASCII value: 32\n",
      "The character 'W' has ASCII value: 87\n",
      "The character 'o' has ASCII value: 111\n",
      "The character 'r' has ASCII value: 114\n",
      "The character 'l' has ASCII value: 108\n",
      "The character 'd' has ASCII value: 100\n",
      "The character '!' has ASCII value: 33\n"
     ]
    }
   ],
   "source": [
    "#q8  How can you iterate through the characters of a string using a for loop in Python?\n",
    "\n",
    "my_string = \"Hello, World!\"\n",
    "\n",
    "for char in my_string:\n",
    "    ascii_value = ord(char)\n",
    "    print(f\"The character '{char}' has ASCII value: {ascii_value}\")\n"
   ]
  },
  {
   "cell_type": "code",
   "execution_count": 13,
   "id": "abe3beb5-c1d9-4a78-a511-9d336e88966d",
   "metadata": {},
   "outputs": [
    {
     "name": "stdout",
     "output_type": "stream",
     "text": [
      "The largest number in the list is: 15\n"
     ]
    }
   ],
   "source": [
    "#q9 Write a Python program to find the largest number in a list using a for loop.\n",
    "\n",
    "\n",
    "#ans\n",
    "\n",
    "def find_largest_number(input_list):\n",
    "  \n",
    "    if not input_list:\n",
    "        print(\"The list is empty.\")\n",
    "        return None\n",
    "\n",
    "    largest_number = input_list[0]\n",
    "\n",
    "    for number in input_list:\n",
    "       \n",
    "        if number > largest_number:\n",
    "            largest_number = number\n",
    "\n",
    "    return largest_number\n",
    "\n",
    "\n",
    "my_list = [3, 7, 1, 15, 9, 5, 12]\n",
    "\n",
    "\n",
    "result = find_largest_number(my_list)\n",
    "\n",
    "\n",
    "if result is not None:\n",
    "    print(f\"The largest number in the list is: {result}\")\n"
   ]
  },
  {
   "cell_type": "code",
   "execution_count": 14,
   "id": "0d32053d-79e6-4936-bef5-4e2f47786d25",
   "metadata": {},
   "outputs": [
    {
     "name": "stdin",
     "output_type": "stream",
     "text": [
      "Enter the limit for the Fibonacci sequence:  6\n"
     ]
    },
    {
     "name": "stdout",
     "output_type": "stream",
     "text": [
      "The Fibonacci sequence up to 6 is: [0, 1, 1, 2, 3, 5]\n"
     ]
    }
   ],
   "source": [
    "#10 Create a Python program that prints the Fibonacci sequence up to a specified limit using a for loop.\n",
    "  \n",
    "\n",
    "#ans \n",
    "\n",
    "def fibonacci_sequence(limit):\n",
    "   \n",
    "    if limit <= 0:\n",
    "        print(\"Please enter a positive limit.\")\n",
    "        return None\n",
    "\n",
    "  \n",
    "    fib_sequence = [0, 1]\n",
    "\n",
    "    for i in range(2, limit):\n",
    "        next_number = fib_sequence[i-1] + fib_sequence[i-2]\n",
    "      \n",
    "        if next_number > limit:\n",
    "            break\n",
    "        fib_sequence.append(next_number)\n",
    "\n",
    "    return fib_sequence\n",
    "\n",
    "\n",
    "user_limit = input(\"Enter the limit for the Fibonacci sequence: \")\n",
    "\n",
    "\n",
    "if user_limit.isdigit():\n",
    "    limit = int(user_limit)\n",
    "    result = fibonacci_sequence(limit)\n",
    "\n",
    " \n",
    "    if result is not None:\n",
    "        print(f\"The Fibonacci sequence up to {limit} is: {result}\")\n",
    "else:\n",
    "    print(\"Invalid input. Please enter a positive integer.\")\n"
   ]
  },
  {
   "cell_type": "code",
   "execution_count": 15,
   "id": "34423bce-4af0-460b-8fbd-97d51ae807a6",
   "metadata": {},
   "outputs": [
    {
     "name": "stdin",
     "output_type": "stream",
     "text": [
      "Enter a string to count the number of vowels:  jatin\n"
     ]
    },
    {
     "name": "stdout",
     "output_type": "stream",
     "text": [
      "The number of vowels in the string is: 2\n"
     ]
    }
   ],
   "source": [
    "#11 Write a Python program to count the number of vowels in a given string using a for loop.\n",
    "\n",
    "#ans \n",
    "\n",
    "\n",
    "def count_vowels(input_string):\n",
    "  \n",
    "    vowels = set(\"aeiouAEIOU\")\n",
    "\n",
    "   \n",
    "    vowel_count = 0\n",
    "\n",
    "    for char in input_string:\n",
    "  \n",
    "        if char in vowels:\n",
    "            vowel_count += 1\n",
    "\n",
    "    return vowel_count\n",
    "\n",
    "\n",
    "user_input = input(\"Enter a string to count the number of vowels: \")\n",
    "\n",
    "\n",
    "result = count_vowels(user_input)\n",
    "\n",
    "\n",
    "print(f\"The number of vowels in the string is: {result}\")\n"
   ]
  },
  {
   "cell_type": "code",
   "execution_count": 17,
   "id": "74489acc-f080-4f5e-9496-a8d47178cc63",
   "metadata": {},
   "outputs": [
    {
     "name": "stdin",
     "output_type": "stream",
     "text": [
      "Enter a number to generate its multiplication table:  3\n",
      "Enter the limit for the table:  9\n"
     ]
    },
    {
     "name": "stdout",
     "output_type": "stream",
     "text": [
      "Multiplication table for 3 up to 9:\n",
      "3 x 1 = 3\n",
      "3 x 2 = 6\n",
      "3 x 3 = 9\n",
      "3 x 4 = 12\n",
      "3 x 5 = 15\n",
      "3 x 6 = 18\n",
      "3 x 7 = 21\n",
      "3 x 8 = 24\n",
      "3 x 9 = 27\n",
      "\n"
     ]
    }
   ],
   "source": [
    "#12 Create a Python program that generates a multiplication table for a given number using a for loop.\n",
    "\n",
    "#ans \n",
    "\n",
    "\n",
    "   # Function to generate a multiplication table for a given number\n",
    "def multiplication_table(number, limit):\n",
    "    # Initialize an empty string to store the table\n",
    "    table_output = f\"Multiplication table for {number} up to {limit}:\\n\"\n",
    "\n",
    "    # Use a for loop to generate the table\n",
    "    for i in range(1, limit + 1):\n",
    "        result = number * i\n",
    "        table_output += f\"{number} x {i} = {result}\\n\"\n",
    "\n",
    "    return table_output\n",
    "\n",
    "# Input: Get the number and limit from the user\n",
    "user_number = input(\"Enter a number to generate its multiplication table: \")\n",
    "user_limit = input(\"Enter the limit for the table: \")\n",
    "\n",
    "# Check if the inputs are positive integers\n",
    "if user_number.isdigit() and user_limit.isdigit():\n",
    "    number = int(user_number)\n",
    "    limit = int(user_limit)\n",
    "    result = multiplication_table(number, limit)\n",
    "\n",
    "    # Print the result\n",
    "    print(result)\n",
    "else:\n",
    "    print(\"Invalid input. Please enter positive integers.\")\n"
   ]
  },
  {
   "cell_type": "code",
   "execution_count": 18,
   "id": "f86daa9f-056b-4a47-bfb9-d5c725acb03d",
   "metadata": {},
   "outputs": [
    {
     "name": "stdout",
     "output_type": "stream",
     "text": [
      "Original List: [1, 2, 3, 4, 5]\n",
      "Reversed List: [5, 4, 3, 2, 1]\n"
     ]
    }
   ],
   "source": [
    "#13 Write a Python program to reverse a list using a for loop.\n",
    "\n",
    "#ans \n",
    "\n",
    "\n",
    "def reverse_list(input_list):\n",
    "    reversed_list = []\n",
    "\n",
    "\n",
    "    for i in range(len(input_list) - 1, -1, -1):\n",
    "        reversed_list.append(input_list[i])\n",
    "\n",
    "    return reversed_list\n",
    "\n",
    "original_list = [1, 2, 3, 4, 5]\n",
    "\n",
    "\n",
    "result = reverse_list(original_list)\n",
    "print(f\"Original List: {original_list}\")\n",
    "print(f\"Reversed List: {result}\")\n"
   ]
  },
  {
   "cell_type": "code",
   "execution_count": 19,
   "id": "5f848972-9f49-491e-a805-d7589d99c9da",
   "metadata": {},
   "outputs": [
    {
     "name": "stdout",
     "output_type": "stream",
     "text": [
      "List 1: [1, 2, 3, 4, 5]\n",
      "List 2: [3, 4, 5, 6, 7]\n",
      "Common Elements: [3, 4, 5]\n"
     ]
    }
   ],
   "source": [
    "#14 Write a Python program to find the common elements between two lists using a for loop.\n",
    "\n",
    "#ans \n",
    "\n",
    "\n",
    "def find_common_elements(list1, list2):\n",
    "    common_elements = []\n",
    "\n",
    "    \n",
    "    for element in list1:\n",
    "      \n",
    "        if element in list2:\n",
    "            common_elements.append(element)\n",
    "\n",
    "    return common_elements\n",
    "\n",
    "\n",
    "list1 = [1, 2, 3, 4, 5]\n",
    "list2 = [3, 4, 5, 6, 7]\n",
    "\n",
    "\n",
    "result = find_common_elements(list1, list2)\n",
    "\n",
    "print(f\"List 1: {list1}\")\n",
    "print(f\"List 2: {list2}\")\n",
    "print(f\"Common Elements: {result}\")\n"
   ]
  },
  {
   "cell_type": "code",
   "execution_count": 25,
   "id": "3a8e5d45-9399-43b0-9651-8ac75430b593",
   "metadata": {},
   "outputs": [
    {
     "name": "stdout",
     "output_type": "stream",
     "text": [
      "Key: a, Value: 1\n",
      "Key: b, Value: 2\n",
      "Key: c, Value: 3\n"
     ]
    }
   ],
   "source": [
    "#15 Explain how to use a for loop to iterate through the keys and values of a dictionary in Python.\n",
    "\n",
    "#and\n",
    "\n",
    "\n",
    "\n",
    "my_dict = {'a': 1, 'b': 2, 'c': 3}\n",
    "\n",
    "\n",
    "for key, value in my_dict.items():\n",
    "    print(f\"Key: {key}, Value: {value}\")\n"
   ]
  },
  {
   "cell_type": "code",
   "execution_count": 27,
   "id": "f3ff1734-6a9c-4184-8800-3d38ef251332",
   "metadata": {},
   "outputs": [
    {
     "name": "stdin",
     "output_type": "stream",
     "text": [
      "Enter the first number:  6\n",
      "Enter the second number:  6\n"
     ]
    },
    {
     "name": "stdout",
     "output_type": "stream",
     "text": [
      "The GCD of 6 and 6 is: 6\n"
     ]
    }
   ],
   "source": [
    " # 16 Write a Python program to find the GCD (Greatest Common Divisor) of two numbers using a for loop.\n",
    "\n",
    "#ans \n",
    "\n",
    "\n",
    "def find_gcd(num1, num2):\n",
    "\n",
    "    if num1 < num2:\n",
    "        smaller = num1\n",
    "    else:\n",
    "        smaller = num2\n",
    "\n",
    "\n",
    "    for i in range(1, smaller + 1):\n",
    "        if (num1 % i == 0) and (num2 % i == 0):\n",
    "            gcd = i\n",
    "\n",
    "    return gcd\n",
    "\n",
    "\n",
    "user_num1 = input(\"Enter the first number: \")\n",
    "user_num2 = input(\"Enter the second number: \")\n",
    "\n",
    "\n",
    "if user_num1.isdigit() and user_num2.isdigit():\n",
    "    num1 = int(user_num1)\n",
    "    num2 = int(user_num2)\n",
    "\n",
    "   \n",
    "    result = find_gcd(num1, num2)\n",
    "\n",
    "\n",
    "    print(f\"The GCD of {num1} and {num2} is: {result}\")\n",
    "else:\n",
    "    print(\"Invalid input. Please enter positive integers.\")\n"
   ]
  },
  {
   "cell_type": "code",
   "execution_count": 29,
   "id": "d90e190e-05ba-44f7-96b7-8a419ce348a1",
   "metadata": {},
   "outputs": [
    {
     "name": "stdin",
     "output_type": "stream",
     "text": [
      "Enter a string to check if it's a palindrome:  jgiktjg\n"
     ]
    },
    {
     "name": "stdout",
     "output_type": "stream",
     "text": [
      "jgiktjg is not a palindrome.\n"
     ]
    }
   ],
   "source": [
    "# 17 Create a Python program that checks if a string is a palindrome using a for loop.\n",
    "\n",
    "#ans \n",
    "\n",
    "\n",
    "def is_palindrome(input_string):\n",
    "  \n",
    "    cleaned_string = input_string.replace(\" \", \"\").lower()\n",
    "\n",
    "\n",
    "    for i in range(len(cleaned_string) // 2):\n",
    "        if cleaned_string[i] != cleaned_string[len(cleaned_string) - 1 - i]:\n",
    "            return False\n",
    "\n",
    "    return True\n",
    "\n",
    "user_input = input(\"Enter a string to check if it's a palindrome: \")\n",
    "\n",
    "\n",
    "result = is_palindrome(user_input)\n",
    "\n",
    "\n",
    "if result:\n",
    "    print(f\"{user_input} is a palindrome.\")\n",
    "else:\n",
    "    print(f\"{user_input} is not a palindrome.\")\n"
   ]
  },
  {
   "cell_type": "code",
   "execution_count": 31,
   "id": "a64b3a05-9fab-4d6a-8c64-23a3e563d052",
   "metadata": {},
   "outputs": [
    {
     "name": "stdout",
     "output_type": "stream",
     "text": [
      "Original List: [1, 2, 3, 2, 4, 5, 1, 6, 3, 7, 8, 9, 5]\n",
      "List without Duplicates: [1, 2, 3, 4, 5, 6, 7, 8, 9]\n"
     ]
    }
   ],
   "source": [
    "#18 Write a Python program to remove duplicates from a list using a for loop.\n",
    "\n",
    "#ans \n",
    "\n",
    "# Function to remove duplicates from a list\n",
    "def remove_duplicates(input_list):\n",
    "    unique_list = []\n",
    "\n",
    "    # Use a for loop to iterate through elements in the input_list\n",
    "    for element in input_list:\n",
    "        # Check if the element is not already in unique_list\n",
    "        if element not in unique_list:\n",
    "            unique_list.append(element)\n",
    "\n",
    "    return unique_list\n",
    "\n",
    "# Example list with duplicates\n",
    "original_list = [1, 2, 3, 2, 4, 5, 1, 6, 3, 7, 8, 9, 5]\n",
    "\n",
    "# Call the function to remove duplicates\n",
    "result = remove_duplicates(original_list)\n",
    "\n",
    "# Print the result\n",
    "print(f\"Original List: {original_list}\")\n",
    "print(f\"List without Duplicates: {result}\")\n"
   ]
  },
  {
   "cell_type": "code",
   "execution_count": 32,
   "id": "d4118874-9113-4ae2-aa88-3b3e1664bb5e",
   "metadata": {},
   "outputs": [
    {
     "name": "stdin",
     "output_type": "stream",
     "text": [
      "Enter a sentence to count the number of words:  hrllo bhai\n"
     ]
    },
    {
     "name": "stdout",
     "output_type": "stream",
     "text": [
      "The number of words in the sentence is: 2\n"
     ]
    }
   ],
   "source": [
    "#19 Create a Python program that counts the number of words in a sentence using a for loop.\n",
    "\n",
    "#ans \n",
    "\n",
    "# Function to count the number of words in a sentence\n",
    "def count_words(sentence):\n",
    "    word_count = 0\n",
    "\n",
    "    # Use a for loop to iterate through characters in the sentence\n",
    "    for char in sentence:\n",
    "        # Check for spaces to identify word boundaries\n",
    "        if char == ' ':\n",
    "            word_count += 1\n",
    "\n",
    "    # Add 1 to the count for the last word (assuming the sentence is not empty)\n",
    "    word_count += 1\n",
    "\n",
    "    return word_count\n",
    "\n",
    "# Input: Get the sentence from the user\n",
    "user_sentence = input(\"Enter a sentence to count the number of words: \")\n",
    "\n",
    "# Call the function to count words\n",
    "result = count_words(user_sentence)\n",
    "\n",
    "# Print the result\n",
    "print(f\"The number of words in the sentence is: {result}\")\n"
   ]
  },
  {
   "cell_type": "code",
   "execution_count": 33,
   "id": "c574bb13-ceaa-47eb-86a4-e56511e6a2ee",
   "metadata": {},
   "outputs": [
    {
     "name": "stdout",
     "output_type": "stream",
     "text": [
      "The sum of all odd numbers from 1 to 50 is: 625\n"
     ]
    }
   ],
   "source": [
    "#20 Write a Python program to find the sum of all odd numbers from 1 to 50 using a for loop.\n",
    "\n",
    "#ans \n",
    "\n",
    "# Initialize a variable to store the sum\n",
    "odd_sum = 0\n",
    "\n",
    "# Use a for loop to iterate through numbers from 1 to 50\n",
    "for number in range(1, 51, 2):\n",
    "    # Add each odd number to the sum\n",
    "    odd_sum += number\n",
    "\n",
    "# Print the final sum\n",
    "print(\"The sum of all odd numbers from 1 to 50 is:\", odd_sum)\n"
   ]
  },
  {
   "cell_type": "code",
   "execution_count": 34,
   "id": "123f27cc-b9b9-45fe-bd8a-2668a3c931ea",
   "metadata": {},
   "outputs": [
    {
     "name": "stdin",
     "output_type": "stream",
     "text": [
      "Enter a year to check if it's a leap year:  2001\n"
     ]
    },
    {
     "name": "stdout",
     "output_type": "stream",
     "text": [
      "2001 is not a leap year.\n"
     ]
    }
   ],
   "source": [
    "#21 Write a Python program that checks if a given year is a leap year using a for loop.\n",
    "\n",
    "#ans \n",
    "\n",
    "# Function to check if a year is a leap year\n",
    "def is_leap_year(year):\n",
    "    if (year % 4 == 0 and year % 100 != 0) or (year % 400 == 0):\n",
    "        return True\n",
    "    else:\n",
    "        return False\n",
    "\n",
    "# Input: Get the year from the user\n",
    "user_year = input(\"Enter a year to check if it's a leap year: \")\n",
    "\n",
    "# Check if the input is a positive integer\n",
    "if user_year.isdigit():\n",
    "    year = int(user_year)\n",
    "\n",
    "    # Call the function to check if the year is a leap year\n",
    "    result = is_leap_year(year)\n",
    "\n",
    "    # Print the result\n",
    "    if result:\n",
    "        print(f\"{year} is a leap year.\")\n",
    "    else:\n",
    "        print(f\"{year} is not a leap year.\")\n",
    "else:\n",
    "    print(\"Invalid input. Please enter a positive integer.\")\n"
   ]
  },
  {
   "cell_type": "code",
   "execution_count": 35,
   "id": "3952dfd9-bef2-4065-bb16-059ce2c37ad9",
   "metadata": {},
   "outputs": [
    {
     "name": "stdin",
     "output_type": "stream",
     "text": [
      "Enter a number to calculate its square root:  7\n"
     ]
    },
    {
     "name": "stdout",
     "output_type": "stream",
     "text": [
      "The square root of 7.0 is approximately: 2.6457513110645907\n"
     ]
    }
   ],
   "source": [
    "#22 Create a Python program that calculates the square root of a number using a for loop.\n",
    "\n",
    "#ans \n",
    "\n",
    "# Function to calculate the square root using Newton's method\n",
    "def square_root(number, tolerance=1e-10):\n",
    "    # Initial guess for the square root\n",
    "    guess = number / 2.0\n",
    "\n",
    "    # Use a for loop to iteratively improve the guess\n",
    "    for _ in range(100):  # Limit the iterations to avoid an infinite loop\n",
    "        new_guess = 0.5 * (guess + number / guess)\n",
    "        # Check if the improvement is within the specified tolerance\n",
    "        if abs(new_guess - guess) < tolerance:\n",
    "            return new_guess\n",
    "        guess = new_guess\n",
    "\n",
    "    return guess\n",
    "\n",
    "# Input: Get the number from the user\n",
    "user_number = input(\"Enter a number to calculate its square root: \")\n",
    "\n",
    "# Check if the input is a non-negative float\n",
    "try:\n",
    "    number = float(user_number)\n",
    "    if number < 0:\n",
    "        raise ValueError(\"Please enter a non-negative number.\")\n",
    "except ValueError as e:\n",
    "    print(f\"Invalid input: {e}\")\n",
    "else:\n",
    "    # Call the function to calculate the square root\n",
    "    result = square_root(number)\n",
    "\n",
    "    # Print the result\n",
    "    print(f\"The square root of {number} is approximately: {result}\")\n"
   ]
  },
  {
   "cell_type": "code",
   "execution_count": 36,
   "id": "9bc59df0-d203-4f23-9ecb-28aabb7f7513",
   "metadata": {},
   "outputs": [
    {
     "name": "stdin",
     "output_type": "stream",
     "text": [
      "Enter the first number:  3\n",
      "Enter the second number:  4\n"
     ]
    },
    {
     "name": "stdout",
     "output_type": "stream",
     "text": [
      "The LCM of 3 and 4 is: 12\n"
     ]
    }
   ],
   "source": [
    "#23 Write a Python program to find the LCM (Least Common Multiple) of two numbers using a for loop.\n",
    "#ans \n",
    "\n",
    "# Function to find the GCD (Greatest Common Divisor)\n",
    "def find_gcd(num1, num2):\n",
    "    while num2:\n",
    "        num1, num2 = num2, num1 % num2\n",
    "    return num1\n",
    "\n",
    "# Function to find the LCM (Least Common Multiple)\n",
    "def find_lcm(num1, num2):\n",
    "    # Use the formula: LCM(a, b) = |a * b| / GCD(a, b)\n",
    "    gcd = find_gcd(num1, num2)\n",
    "    lcm = abs(num1 * num2) // gcd\n",
    "    return lcm\n",
    "\n",
    "# Input: Get the two numbers from the user\n",
    "user_num1 = input(\"Enter the first number: \")\n",
    "user_num2 = input(\"Enter the second number: \")\n",
    "\n",
    "# Check if the inputs are positive integers\n",
    "if user_num1.isdigit() and user_num2.isdigit():\n",
    "    num1 = int(user_num1)\n",
    "    num2 = int(user_num2)\n",
    "\n",
    "    # Call the function to find the LCM\n",
    "    result = find_lcm(num1, num2)\n",
    "\n",
    "    # Print the result\n",
    "    print(f\"The LCM of {num1} and {num2} is: {result}\")\n",
    "else:\n",
    "    print(\"Invalid input. Please enter positive integers.\")\n",
    "\n"
   ]
  },
  {
   "cell_type": "code",
   "execution_count": 37,
   "id": "6df3285f-ce8b-40ab-a16d-e730d9532f76",
   "metadata": {},
   "outputs": [],
   "source": [
    "#  IF ELSE "
   ]
  },
  {
   "cell_type": "code",
   "execution_count": 38,
   "id": "f236f1a8-0f95-4bd0-a609-ece303b493e7",
   "metadata": {},
   "outputs": [
    {
     "name": "stdin",
     "output_type": "stream",
     "text": [
      "Enter a number:  5\n"
     ]
    },
    {
     "name": "stdout",
     "output_type": "stream",
     "text": [
      "The entered number is positive.\n"
     ]
    }
   ],
   "source": [
    "#1 Write a Python program to check if a number is positive, negative, or zero using an if-else statement.\n",
    "\n",
    "#ans \n",
    "\n",
    "# Input: Get the number from the user\n",
    "user_number = input(\"Enter a number: \")\n",
    "\n",
    "# Check if the input is a valid number\n",
    "try:\n",
    "    number = float(user_number)\n",
    "except ValueError:\n",
    "    print(\"Invalid input. Please enter a valid number.\")\n",
    "else:\n",
    "    # Check if the number is positive, negative, or zero\n",
    "    if number > 0:\n",
    "        print(\"The entered number is positive.\")\n",
    "    elif number < 0:\n",
    "        print(\"The entered number is negative.\")\n",
    "    else:\n",
    "        print(\"The entered number is zero.\")\n"
   ]
  },
  {
   "cell_type": "code",
   "execution_count": 39,
   "id": "8dd3efd5-ab39-40cf-8fb6-b83b834f4c60",
   "metadata": {},
   "outputs": [
    {
     "name": "stdin",
     "output_type": "stream",
     "text": [
      "Enter a number:  44\n"
     ]
    },
    {
     "name": "stdout",
     "output_type": "stream",
     "text": [
      "The entered number 44 is even.\n"
     ]
    }
   ],
   "source": [
    "#2 Create a Python program that checks if a given number is even or odd using an if-else statement\n",
    "\n",
    "#ans \n",
    "\n",
    "# Input: Get the number from the user\n",
    "user_number = input(\"Enter a number: \")\n",
    "\n",
    "# Check if the input is a valid number\n",
    "try:\n",
    "    number = int(user_number)\n",
    "except ValueError:\n",
    "    print(\"Invalid input. Please enter a valid integer.\")\n",
    "else:\n",
    "    # Check if the number is even or odd\n",
    "    if number % 2 == 0:\n",
    "        print(f\"The entered number {number} is even.\")\n",
    "    else:\n",
    "        print(f\"The entered number {number} is odd.\")\n"
   ]
  },
  {
   "cell_type": "code",
   "execution_count": 40,
   "id": "61e596e8-3968-49c5-aad6-9b8e38b35be3",
   "metadata": {},
   "outputs": [
    {
     "name": "stdin",
     "output_type": "stream",
     "text": [
      "Enter a number:  24\n"
     ]
    },
    {
     "name": "stdout",
     "output_type": "stream",
     "text": [
      "The entered number is positive.\n",
      "The entered number is even.\n"
     ]
    }
   ],
   "source": [
    "#3  How can you use nested if-else statements in Python, and provide an example?\n",
    "\n",
    "#ans \n",
    "\n",
    "# Input: Get the number from the user\n",
    "user_number = input(\"Enter a number: \")\n",
    "\n",
    "# Check if the input is a valid number\n",
    "try:\n",
    "    number = int(user_number)\n",
    "except ValueError:\n",
    "    print(\"Invalid input. Please enter a valid integer.\")\n",
    "else:\n",
    "    # Check if the number is positive, negative, or zero\n",
    "    if number > 0:\n",
    "        print(\"The entered number is positive.\")\n",
    "        # Check if the number is even or odd\n",
    "        if number % 2 == 0:\n",
    "            print(\"The entered number is even.\")\n",
    "        else:\n",
    "            print(\"The entered number is odd.\")\n",
    "    elif number < 0:\n",
    "        print(\"The entered number is negative.\")\n",
    "    else:\n",
    "        print(\"The entered number is zero.\")\n"
   ]
  },
  {
   "cell_type": "code",
   "execution_count": 41,
   "id": "10db5fad-328e-4896-b174-74f624e44cb4",
   "metadata": {},
   "outputs": [
    {
     "name": "stdin",
     "output_type": "stream",
     "text": [
      "Enter the first number:  23\n",
      "Enter the second number:  44\n",
      "Enter the third number:  22\n"
     ]
    },
    {
     "name": "stdout",
     "output_type": "stream",
     "text": [
      "The largest number among 23.0, 44.0, and 22.0 is: 44.0\n"
     ]
    }
   ],
   "source": [
    "#4 Write a Python program to determine the largest of three numbers using if-else.\n",
    "\n",
    "#ans \n",
    "\n",
    "# Input: Get three numbers from the user\n",
    "user_num1 = input(\"Enter the first number: \")\n",
    "user_num2 = input(\"Enter the second number: \")\n",
    "user_num3 = input(\"Enter the third number: \")\n",
    "\n",
    "# Check if the inputs are valid numbers\n",
    "try:\n",
    "    num1 = float(user_num1)\n",
    "    num2 = float(user_num2)\n",
    "    num3 = float(user_num3)\n",
    "except ValueError:\n",
    "    print(\"Invalid input. Please enter valid numbers.\")\n",
    "else:\n",
    "    # Determine the largest number using if-else statements\n",
    "    if num1 >= num2 and num1 >= num3:\n",
    "        largest_num = num1\n",
    "    elif num2 >= num1 and num2 >= num3:\n",
    "        largest_num = num2\n",
    "    else:\n",
    "        largest_num = num3\n",
    "\n",
    "    # Print the result\n",
    "    print(f\"The largest number among {num1}, {num2}, and {num3} is: {largest_num}\")\n"
   ]
  },
  {
   "cell_type": "code",
   "execution_count": 42,
   "id": "864f995b-b13a-4469-b621-c6679d4d7769",
   "metadata": {},
   "outputs": [
    {
     "name": "stdin",
     "output_type": "stream",
     "text": [
      "Enter a number:  535\n"
     ]
    },
    {
     "name": "stdout",
     "output_type": "stream",
     "text": [
      "The absolute value of 535.0 is: 535.0\n"
     ]
    }
   ],
   "source": [
    "#5 Write a Python program that calculates the absolute value of a number using if-else.\n",
    "\n",
    "#ans \n",
    "\n",
    "# Input: Get the number from the user\n",
    "user_number = input(\"Enter a number: \")\n",
    "\n",
    "# Check if the input is a valid number\n",
    "try:\n",
    "    number = float(user_number)\n",
    "except ValueError:\n",
    "    print(\"Invalid input. Please enter a valid number.\")\n",
    "else:\n",
    "    # Calculate the absolute value using if-else statements\n",
    "    if number < 0:\n",
    "        absolute_value = -number\n",
    "    else:\n",
    "        absolute_value = number\n",
    "\n",
    "    # Print the result\n",
    "    print(f\"The absolute value of {number} is: {absolute_value}\")\n"
   ]
  },
  {
   "cell_type": "code",
   "execution_count": 45,
   "id": "c9d3a8b7-bda6-445a-8fe2-103d2d5cfb56",
   "metadata": {},
   "outputs": [
    {
     "name": "stdin",
     "output_type": "stream",
     "text": [
      "Enter a character:  t\n"
     ]
    },
    {
     "name": "stdout",
     "output_type": "stream",
     "text": [
      "The entered character 't' is a consonant.\n"
     ]
    }
   ],
   "source": [
    "#6 Create a Python program that checks if a given character is a vowel or consonant using if-else.\n",
    "\n",
    "#ans \n",
    "\n",
    "# Input: Get a character from the user\n",
    "user_char = input(\"Enter a character: \")\n",
    "\n",
    "# Check if the input is a valid single character\n",
    "if len(user_char) == 1 and user_char.isalpha():\n",
    "    # Convert the character to lowercase for case-insensitive comparison\n",
    "    char = user_char.lower()\n",
    "\n",
    "    # Check if the character is a vowel or consonant using if-else statements\n",
    "    if char in 'aeiou':\n",
    "        print(f\"The entered character '{user_char}' is a vowel.\")\n",
    "    else:\n",
    "        print(f\"The entered character '{user_char}' is a consonant.\")\n",
    "else:\n",
    "    print(\"Invalid input. Please enter a single alphabetical character.\")\n"
   ]
  },
  {
   "cell_type": "code",
   "execution_count": 46,
   "id": "9ae90ef8-c55c-4900-872f-2f2c2ba3ba1b",
   "metadata": {},
   "outputs": [
    {
     "name": "stdin",
     "output_type": "stream",
     "text": [
      "Enter your age:  22\n"
     ]
    },
    {
     "name": "stdout",
     "output_type": "stream",
     "text": [
      "You are eligible to vote.\n"
     ]
    }
   ],
   "source": [
    "#7 Write a Python program to determine if a user is eligible to vote based on their age using if-else.\n",
    "\n",
    "#ans \n",
    "\n",
    "# Input: Get the user's age\n",
    "user_age = input(\"Enter your age: \")\n",
    "\n",
    "# Check if the input is a valid positive integer\n",
    "try:\n",
    "    age = int(user_age)\n",
    "except ValueError:\n",
    "    print(\"Invalid input. Please enter a valid positive integer.\")\n",
    "else:\n",
    "    # Check if the user is eligible to vote using if-else statements\n",
    "    if age >= 18:\n",
    "        print(\"You are eligible to vote.\")\n",
    "    else:\n",
    "        print(\"You are not eligible to vote yet.\")\n"
   ]
  },
  {
   "cell_type": "code",
   "execution_count": 47,
   "id": "2704c89c-25b1-4e48-8728-81975592d73a",
   "metadata": {},
   "outputs": [
    {
     "name": "stdin",
     "output_type": "stream",
     "text": [
      "Enter the purchase amount:  345\n"
     ]
    },
    {
     "name": "stdout",
     "output_type": "stream",
     "text": [
      "Purchase Amount: $345.00\n",
      "Discount Percentage: 10%\n",
      "Discount Amount: $34.50\n",
      "Final Amount after Discount: $310.50\n"
     ]
    }
   ],
   "source": [
    "#8 Create a Python program that calculates the discount amount based on the purchase amount using if-else.\n",
    "\n",
    "#ans \n",
    "\n",
    "# Input: Get the purchase amount from the user\n",
    "user_purchase_amount = input(\"Enter the purchase amount: \")\n",
    "\n",
    "# Check if the input is a valid positive float\n",
    "try:\n",
    "    purchase_amount = float(user_purchase_amount)\n",
    "except ValueError:\n",
    "    print(\"Invalid input. Please enter a valid positive number.\")\n",
    "else:\n",
    "    # Calculate the discount based on the purchase amount using if-else statements\n",
    "    if purchase_amount >= 100:\n",
    "        discount_percentage = 10\n",
    "    elif purchase_amount >= 50:\n",
    "        discount_percentage = 5\n",
    "    else:\n",
    "        discount_percentage = 0\n",
    "\n",
    "    # Calculate the discount amount\n",
    "    discount_amount = (discount_percentage / 100) * purchase_amount\n",
    "\n",
    "    # Print the result\n",
    "    print(f\"Purchase Amount: ${purchase_amount:.2f}\")\n",
    "    print(f\"Discount Percentage: {discount_percentage}%\")\n",
    "    print(f\"Discount Amount: ${discount_amount:.2f}\")\n",
    "    print(f\"Final Amount after Discount: ${purchase_amount - discount_amount:.2f}\")\n",
    "\n"
   ]
  },
  {
   "cell_type": "code",
   "execution_count": 48,
   "id": "7f07a615-2061-4b3b-a829-eb1b25c3eee4",
   "metadata": {},
   "outputs": [
    {
     "name": "stdin",
     "output_type": "stream",
     "text": [
      "Enter a number:  242\n"
     ]
    },
    {
     "name": "stdout",
     "output_type": "stream",
     "text": [
      "The entered number 242.0 is outside the range [10, 20].\n"
     ]
    }
   ],
   "source": [
    "#9 Write a Python program to check if a number is within a specified range using if-else.\n",
    "\n",
    "#ans \n",
    "\n",
    "# Input: Get the number from the user\n",
    "user_number = input(\"Enter a number: \")\n",
    "\n",
    "# Check if the input is a valid float\n",
    "try:\n",
    "    number = float(user_number)\n",
    "except ValueError:\n",
    "    print(\"Invalid input. Please enter a valid number.\")\n",
    "else:\n",
    "    # Specify the range (inclusive)\n",
    "    lower_limit = 10\n",
    "    upper_limit = 20\n",
    "\n",
    "    # Check if the number is within the specified range using if-else statements\n",
    "    if lower_limit <= number <= upper_limit:\n",
    "        print(f\"The entered number {number} is within the range [{lower_limit}, {upper_limit}].\")\n",
    "    else:\n",
    "        print(f\"The entered number {number} is outside the range [{lower_limit}, {upper_limit}].\")\n"
   ]
  },
  {
   "cell_type": "code",
   "execution_count": 49,
   "id": "36646d0a-79bd-4ff8-b74f-8758658bd2c8",
   "metadata": {},
   "outputs": [
    {
     "name": "stdin",
     "output_type": "stream",
     "text": [
      "Enter the student's score:  24\n"
     ]
    },
    {
     "name": "stdout",
     "output_type": "stream",
     "text": [
      "The student's grade is: F\n"
     ]
    }
   ],
   "source": [
    "#10 Create a Python program that determines the grade of a student based on their score using if-else.\n",
    "\n",
    "#ans \n",
    "\n",
    "# Input: Get the student's score from the user\n",
    "user_score = input(\"Enter the student's score: \")\n",
    "\n",
    "# Check if the input is a valid float\n",
    "try:\n",
    "    score = float(user_score)\n",
    "except ValueError:\n",
    "    print(\"Invalid input. Please enter a valid numeric score.\")\n",
    "else:\n",
    "    # Determine the grade based on the score using if-else statements\n",
    "    if 90 <= score <= 100:\n",
    "        grade = 'A'\n",
    "    elif 80 <= score < 90:\n",
    "        grade = 'B'\n",
    "    elif 70 <= score < 80:\n",
    "        grade = 'C'\n",
    "    elif 60 <= score < 70:\n",
    "        grade = 'D'\n",
    "    elif 0 <= score < 60:\n",
    "        grade = 'F'\n",
    "    else:\n",
    "        print(\"Invalid score. Please enter a score between 0 and 100.\")\n",
    "        exit()\n",
    "\n",
    "    # Print the result\n",
    "    print(f\"The student's grade is: {grade}\")\n"
   ]
  },
  {
   "cell_type": "code",
   "execution_count": 50,
   "id": "ab739ce7-9343-40d5-b466-5f7b864eb3c5",
   "metadata": {},
   "outputs": [
    {
     "name": "stdin",
     "output_type": "stream",
     "text": [
      "Enter a string:  jartl\n"
     ]
    },
    {
     "name": "stdout",
     "output_type": "stream",
     "text": [
      "The entered string is not empty. It has 5 characters.\n"
     ]
    }
   ],
   "source": [
    "#11 Write a Python program to check if a string is empty or not using if-else.\n",
    "\n",
    "#ans \n",
    "\n",
    "# Input: Get the string from the user\n",
    "user_input = input(\"Enter a string: \")\n",
    "\n",
    "# Check if the string is empty or not using if-else statements\n",
    "if not user_input:\n",
    "    print(\"The entered string is empty.\")\n",
    "else:\n",
    "    print(f\"The entered string is not empty. It has {len(user_input)} characters.\")\n"
   ]
  },
  {
   "cell_type": "code",
   "execution_count": 51,
   "id": "e6699839-2744-432c-8328-3a160c536184",
   "metadata": {},
   "outputs": [
    {
     "name": "stdin",
     "output_type": "stream",
     "text": [
      "Enter the length of the first side:  4\n",
      "Enter the length of the second side:  4\n",
      "Enter the length of the third side:  4\n"
     ]
    },
    {
     "name": "stdout",
     "output_type": "stream",
     "text": [
      "The triangle is Equilateral.\n"
     ]
    }
   ],
   "source": [
    "#12 Create a Python program that identifies the type of a triangle (e.g., equilateral, isosceles, or scalene) based on input values using if-else.\n",
    "\n",
    "# ans \n",
    "\n",
    "# Input: Get the lengths of the three sides of the triangle from the user\n",
    "side1 = float(input(\"Enter the length of the first side: \"))\n",
    "side2 = float(input(\"Enter the length of the second side: \"))\n",
    "side3 = float(input(\"Enter the length of the third side: \"))\n",
    "\n",
    "# Check if the input sides form a valid triangle\n",
    "if side1 + side2 > side3 and side1 + side3 > side2 and side2 + side3 > side1:\n",
    "    # Determine the type of triangle using if-else statements\n",
    "    if side1 == side2 == side3:\n",
    "        triangle_type = \"Equilateral\"\n",
    "    elif side1 == side2 or side1 == side3 or side2 == side3:\n",
    "        triangle_type = \"Isosceles\"\n",
    "    else:\n",
    "        triangle_type = \"Scalene\"\n",
    "\n",
    "    # Print the result\n",
    "    print(f\"The triangle is {triangle_type}.\")\n",
    "else:\n",
    "    print(\"Invalid input. The entered side lengths do not form a valid triangle.\")\n"
   ]
  },
  {
   "cell_type": "code",
   "execution_count": 52,
   "id": "28cb76d8-14f6-4c15-a1e8-bda11257246e",
   "metadata": {},
   "outputs": [
    {
     "name": "stdin",
     "output_type": "stream",
     "text": [
      "Enter a number (1-7) representing the day of the week:  2\n"
     ]
    },
    {
     "name": "stdout",
     "output_type": "stream",
     "text": [
      "The day corresponding to the number 2 is Tuesday.\n"
     ]
    }
   ],
   "source": [
    "#13 Write a Python program to determine the day of the week based on a user-provided number using if-else.\n",
    "\n",
    "#qns \n",
    "\n",
    "# Input: Get the user-provided number representing the day of the week\n",
    "user_number = input(\"Enter a number (1-7) representing the day of the week: \")\n",
    "\n",
    "# Check if the input is a valid integer\n",
    "try:\n",
    "    day_number = int(user_number)\n",
    "except ValueError:\n",
    "    print(\"Invalid input. Please enter a valid integer.\")\n",
    "else:\n",
    "    # Determine the day of the week using if-else statements\n",
    "    if 1 <= day_number <= 7:\n",
    "        # Map the numbers to the corresponding days\n",
    "        days_of_week = {1: \"Monday\", 2: \"Tuesday\", 3: \"Wednesday\", 4: \"Thursday\", 5: \"Friday\", 6: \"Saturday\", 7: \"Sunday\"}\n",
    "        day_of_week = days_of_week[day_number]\n",
    "\n",
    "        # Print the result\n",
    "        print(f\"The day corresponding to the number {day_number} is {day_of_week}.\")\n",
    "    else:\n",
    "        print(\"Invalid input. Please enter a number between 1 and 7.\")\n"
   ]
  },
  {
   "cell_type": "code",
   "execution_count": 53,
   "id": "47214850-03a1-45a6-93d3-a06141fbc42e",
   "metadata": {},
   "outputs": [
    {
     "name": "stdin",
     "output_type": "stream",
     "text": [
      "Enter a year to check if it's a leap year:  1001\n"
     ]
    },
    {
     "name": "stdout",
     "output_type": "stream",
     "text": [
      "1001 is not a leap year.\n"
     ]
    }
   ],
   "source": [
    "#14 Create a Python program that checks if a given year is a leap year using both if-else and a function.\n",
    "\n",
    "#ans \n",
    "\n",
    "# Function to check if a year is a leap year\n",
    "def is_leap_year(year):\n",
    "    if (year % 4 == 0 and year % 100 != 0) or (year % 400 == 0):\n",
    "        return True\n",
    "    else:\n",
    "        return False\n",
    "\n",
    "# Input: Get the year from the user\n",
    "user_year = input(\"Enter a year to check if it's a leap year: \")\n",
    "\n",
    "# Check if the input is a positive integer\n",
    "try:\n",
    "    year = int(user_year)\n",
    "except ValueError:\n",
    "    print(\"Invalid input. Please enter a positive integer.\")\n",
    "else:\n",
    "    # Call the function to check if the year is a leap year\n",
    "    if is_leap_year(year):\n",
    "        print(f\"{year} is a leap year.\")\n",
    "    else:\n",
    "        print(f\"{year} is not a leap year.\")\n"
   ]
  },
  {
   "cell_type": "code",
   "execution_count": 59,
   "id": "f2769afc-d4f9-4b81-938f-7ccaac2ee333",
   "metadata": {},
   "outputs": [
    {
     "name": "stdin",
     "output_type": "stream",
     "text": [
      "Enter a number:  44\n"
     ]
    },
    {
     "name": "stdout",
     "output_type": "stream",
     "text": [
      "The square of 44.0 is: 1936.0\n"
     ]
    }
   ],
   "source": [
    "#15 How do you use the \"assert\" statement in Python to add debugging checks within if-else blocks?\n",
    "\n",
    "#ans \n",
    "\n",
    "#In Python, the assert statement is used as a debugging aid that tests a condition as true. If the condition is false, an AssertionError exception is raised, and the program terminates. It's a way to include debugging checks within your code.\n",
    "\n",
    "#Here's an example demonstrating the use of assert within an if-else block:\n",
    "\n",
    "# Function to calculate the square of a number\n",
    "def calculate_square(number):\n",
    "    # Check if the input is a positive number using assert\n",
    "    assert number >= 0, \"Input must be a non-negative number\"\n",
    "    \n",
    "    # Calculate and return the square\n",
    "    return number ** 2\n",
    "\n",
    "# Example usage\n",
    "try:\n",
    "    # Prompt the user for input\n",
    "    user_input = float(input(\"Enter a number: \"))\n",
    "    \n",
    "    # Calculate and print the square using the function\n",
    "    result = calculate_square(user_input)\n",
    "    print(f\"The square of {user_input} is: {result}\")\n",
    "except ValueError:\n",
    "    print(\"Invalid input. Please enter a valid number.\")\n",
    "except AssertionError as e:\n",
    "    print(f\"AssertionError: {e}\")\n",
    " #\"\"\"In this example, the calculate_square function uses assert to check whether the input number is non-negative. If the assertion fails (i.e., the number is negative), an AssertionError with a custom error message is raised.\n",
    "\n",
    "#When using assert, keep in mind that it is primarily intended for debugging purposes, and it is advisable to disable assertions in production code for performance reasons.\n",
    "\n",
    "# run Python with assertions enabled, you can use the -O (optimize) command line option:\n",
    "\n",
    "#bash\n",
    "#Copy code\n",
    "#python -O your_script.py\n",
    "#This will disable assertions in your script. When assertions are disabled, the assert statements have no effect, and the program does not terminate if the condition is false.\n",
    "\n",
    "\n",
    "\n",
    "\n",
    "\n"
   ]
  },
  {
   "cell_type": "code",
   "execution_count": 60,
   "id": "e6cb592b-5f73-4758-b7fb-5bfb8d1ec0bd",
   "metadata": {},
   "outputs": [
    {
     "name": "stdin",
     "output_type": "stream",
     "text": [
      "Enter your age:  44\n"
     ]
    },
    {
     "name": "stdout",
     "output_type": "stream",
     "text": [
      "Sorry, you are not eligible for a senior citizen discount at this time.\n"
     ]
    }
   ],
   "source": [
    "#16 Create a Python program that determines the eligibility of a person for a senior citizen discount based on age using if-else.\n",
    "\n",
    "#ans \n",
    "\n",
    "# Input: Get the person's age from the user\n",
    "user_age = input(\"Enter your age: \")\n",
    "\n",
    "# Check if the input is a valid positive integer\n",
    "try:\n",
    "    age = int(user_age)\n",
    "except ValueError:\n",
    "    print(\"Invalid input. Please enter a valid positive integer.\")\n",
    "else:\n",
    "    # Determine eligibility for senior citizen discount using if-else statements\n",
    "    if age >= 60:\n",
    "        print(\"Congratulations! You are eligible for a senior citizen discount.\")\n",
    "    else:\n",
    "        print(\"Sorry, you are not eligible for a senior citizen discount at this time.\")\n"
   ]
  },
  {
   "cell_type": "code",
   "execution_count": 62,
   "id": "a91f2c08-06e7-4b76-a537-985556a5a3c4",
   "metadata": {},
   "outputs": [
    {
     "name": "stdin",
     "output_type": "stream",
     "text": [
      "Enter a character:  r\n"
     ]
    },
    {
     "name": "stdout",
     "output_type": "stream",
     "text": [
      "The entered character 'r' is lowercase.\n"
     ]
    }
   ],
   "source": [
    "#17 Write a Python program to categorize a given character as uppercase, lowercase, or neither using if-else.\n",
    "\n",
    "#ans \n",
    "\n",
    "# Input: Get a character from the user\n",
    "user_char = input(\"Enter a character: \")\n",
    "\n",
    "# Check if the input is a valid single character\n",
    "if len(user_char) == 1 and user_char.isalpha():\n",
    "    # Determine the category using if-else statements\n",
    "    if user_char.islower():\n",
    "        print(f\"The entered character '{user_char}' is lowercase.\")\n",
    "    elif user_char.isupper():\n",
    "        print(f\"The entered character '{user_char}' is uppercase.\")\n",
    "    else:\n",
    "        print(f\"The entered character '{user_char}' is neither uppercase nor lowercase.\")\n",
    "else:\n",
    "    print(\"Invalid input. Please enter a single alphabetical character.\")\n"
   ]
  },
  {
   "cell_type": "code",
   "execution_count": 63,
   "id": "99221281-d958-4be7-b200-87420641fb64",
   "metadata": {},
   "outputs": [
    {
     "name": "stdin",
     "output_type": "stream",
     "text": [
      "Enter the coefficient 'a':  a\n"
     ]
    },
    {
     "ename": "ValueError",
     "evalue": "could not convert string to float: 'a'",
     "output_type": "error",
     "traceback": [
      "\u001b[1;31m---------------------------------------------------------------------------\u001b[0m",
      "\u001b[1;31mValueError\u001b[0m                                Traceback (most recent call last)",
      "Cell \u001b[1;32mIn[63], line 8\u001b[0m\n\u001b[0;32m      5\u001b[0m \u001b[38;5;28;01mimport\u001b[39;00m \u001b[38;5;21;01mmath\u001b[39;00m\n\u001b[0;32m      7\u001b[0m \u001b[38;5;66;03m# Input: Get the coefficients of the quadratic equation from the user\u001b[39;00m\n\u001b[1;32m----> 8\u001b[0m user_a \u001b[38;5;241m=\u001b[39m \u001b[38;5;28;43mfloat\u001b[39;49m\u001b[43m(\u001b[49m\u001b[38;5;28;43minput\u001b[39;49m\u001b[43m(\u001b[49m\u001b[38;5;124;43m\"\u001b[39;49m\u001b[38;5;124;43mEnter the coefficient \u001b[39;49m\u001b[38;5;124;43m'\u001b[39;49m\u001b[38;5;124;43ma\u001b[39;49m\u001b[38;5;124;43m'\u001b[39;49m\u001b[38;5;124;43m: \u001b[39;49m\u001b[38;5;124;43m\"\u001b[39;49m\u001b[43m)\u001b[49m\u001b[43m)\u001b[49m\n\u001b[0;32m      9\u001b[0m user_b \u001b[38;5;241m=\u001b[39m \u001b[38;5;28mfloat\u001b[39m(\u001b[38;5;28minput\u001b[39m(\u001b[38;5;124m\"\u001b[39m\u001b[38;5;124mEnter the coefficient \u001b[39m\u001b[38;5;124m'\u001b[39m\u001b[38;5;124mb\u001b[39m\u001b[38;5;124m'\u001b[39m\u001b[38;5;124m: \u001b[39m\u001b[38;5;124m\"\u001b[39m))\n\u001b[0;32m     10\u001b[0m user_c \u001b[38;5;241m=\u001b[39m \u001b[38;5;28mfloat\u001b[39m(\u001b[38;5;28minput\u001b[39m(\u001b[38;5;124m\"\u001b[39m\u001b[38;5;124mEnter the coefficient \u001b[39m\u001b[38;5;124m'\u001b[39m\u001b[38;5;124mc\u001b[39m\u001b[38;5;124m'\u001b[39m\u001b[38;5;124m: \u001b[39m\u001b[38;5;124m\"\u001b[39m))\n",
      "\u001b[1;31mValueError\u001b[0m: could not convert string to float: 'a'"
     ]
    }
   ],
   "source": [
    "#18 Write a Python program to determine the roots of a quadratic equation using if-else.\n",
    "\n",
    "#ans \n",
    "\n",
    "import math\n",
    "\n",
    "# Input: Get the coefficients of the quadratic equation from the user\n",
    "user_a = float(input(\"Enter the coefficient 'a': \"))\n",
    "user_b = float(input(\"Enter the coefficient 'b': \"))\n",
    "user_c = float(input(\"Enter the coefficient 'c': \"))\n",
    "\n",
    "# Calculate the discriminant\n",
    "discriminant = user_b**2 - 4*user_a*user_c\n",
    "\n",
    "# Determine the roots using if-else statements\n",
    "if discriminant > 0:\n",
    "    root1 = (-user_b + math.sqrt(discriminant)) / (2*user_a)\n",
    "    root2 = (-user_b - math.sqrt(discriminant)) / (2*user_a)\n",
    "    print(f\"The roots of the quadratic equation are real and distinct: {root1} and {root2}.\")\n",
    "elif discriminant == 0:\n",
    "    root = -user_b / (2*user_a)\n",
    "    print(f\"The roots of the quadratic equation are real and equal: {root}.\")\n",
    "else:\n",
    "    real_part = -user_b / (2*user_a)\n",
    "    imaginary_part = math.sqrt(abs(discriminant)) / (2*user_a)\n",
    "    root1 = f\"{real_part} + {imaginary_part}i\"\n",
    "    root2 = f\"{real_part} - {imaginary_part}i\"\n",
    "    print(f\"The roots of the quadratic equation are complex: {root1} and {root2}.\")\n"
   ]
  },
  {
   "cell_type": "code",
   "execution_count": 64,
   "id": "3fb9b68f-3bd0-4420-82a9-ff2f3869374d",
   "metadata": {},
   "outputs": [
    {
     "name": "stdin",
     "output_type": "stream",
     "text": [
      "Enter a year:  3002\n"
     ]
    },
    {
     "name": "stdout",
     "output_type": "stream",
     "text": [
      "3002 is not a century year.\n"
     ]
    }
   ],
   "source": [
    "#19 Create a Python program that checks if a given year is a century year or not using if-else.\n",
    "\n",
    "#ans \n",
    "\n",
    "# Input: Get the year from the user\n",
    "user_year = input(\"Enter a year: \")\n",
    "\n",
    "# Check if the input is a valid positive integer\n",
    "try:\n",
    "    year = int(user_year)\n",
    "except ValueError:\n",
    "    print(\"Invalid input. Please enter a valid positive integer.\")\n",
    "else:\n",
    "    # Determine if the year is a century year using if-else statements\n",
    "    if year % 100 == 0:\n",
    "        print(f\"{year} is a century year.\")\n",
    "    else:\n",
    "        print(f\"{year} is not a century year.\")\n"
   ]
  },
  {
   "cell_type": "code",
   "execution_count": 65,
   "id": "d1465ecd-7ce5-40be-93e9-7a951ab7f39c",
   "metadata": {},
   "outputs": [
    {
     "name": "stdin",
     "output_type": "stream",
     "text": [
      "Enter a number:  23\n"
     ]
    },
    {
     "name": "stdout",
     "output_type": "stream",
     "text": [
      "23 is not a perfect square.\n"
     ]
    }
   ],
   "source": [
    "#20 Write a Python program to determine if a given number is a perfect square using if-else.\n",
    "\n",
    "#ans \n",
    "\n",
    "# Input: Get the number from the user\n",
    "user_number = input(\"Enter a number: \")\n",
    "\n",
    "# Check if the input is a valid positive integer\n",
    "try:\n",
    "    number = int(user_number)\n",
    "except ValueError:\n",
    "    print(\"Invalid input. Please enter a valid positive integer.\")\n",
    "else:\n",
    "    # Determine if the number is a perfect square using if-else statements\n",
    "    if number >= 0 and math.isqrt(number) ** 2 == number:\n",
    "        print(f\"{number} is a perfect square.\")\n",
    "    else:\n",
    "        print(f\"{number} is not a perfect square.\")\n"
   ]
  },
  {
   "cell_type": "code",
   "execution_count": 66,
   "id": "a014dec9-4e9f-4bb8-b9eb-0ea74fef5e85",
   "metadata": {},
   "outputs": [
    {
     "name": "stdout",
     "output_type": "stream",
     "text": [
      "Current iteration: 1\n",
      "Current iteration: 2\n",
      "Current iteration: 3\n"
     ]
    }
   ],
   "source": [
    "#21 Explain the purpose of the \"continue\" and \"break\" statements within if-else loops.\n",
    "\n",
    "#ans \n",
    "\n",
    "for i in range(1, 6):\n",
    "    if i == 4:\n",
    "        break  # Terminate the loop when i is 4\n",
    "    print(f\"Current iteration: {i}\")\n"
   ]
  },
  {
   "cell_type": "code",
   "execution_count": 67,
   "id": "c16c4088-2056-4879-b7f0-d8546b93cb65",
   "metadata": {},
   "outputs": [
    {
     "name": "stdin",
     "output_type": "stream",
     "text": [
      "Enter your weight in kilograms:  44\n",
      "Enter your height in meters:  170\n"
     ]
    },
    {
     "name": "stdout",
     "output_type": "stream",
     "text": [
      "Your BMI is: 0.00\n",
      "You are in the Underweight category.\n"
     ]
    }
   ],
   "source": [
    "#Create a Python program that calculates the BMI (Body Mass Index) of a person based on their weight and height using if-else.\n",
    "\n",
    "#ans \n",
    "\n",
    "# Input: Get the weight and height from the user\n",
    "user_weight = float(input(\"Enter your weight in kilograms: \"))\n",
    "user_height = float(input(\"Enter your height in meters: \"))\n",
    "\n",
    "# Calculate BMI\n",
    "bmi = user_weight / (user_height ** 2)\n",
    "\n",
    "# Determine BMI category using if-else statements\n",
    "if bmi < 18.5:\n",
    "    category = \"Underweight\"\n",
    "elif 18.5 <= bmi < 24.9:\n",
    "    category = \"Normal Weight\"\n",
    "elif 25 <= bmi < 29.9:\n",
    "    category = \"Overweight\"\n",
    "else:\n",
    "    category = \"Obese\"\n",
    "\n",
    "# Print the result\n",
    "print(f\"Your BMI is: {bmi:.2f}\")\n",
    "print(f\"You are in the {category} category.\")\n"
   ]
  },
  {
   "cell_type": "code",
   "execution_count": 68,
   "id": "590fff13-8d05-42b0-9def-4cf75585b042",
   "metadata": {},
   "outputs": [
    {
     "ename": "NameError",
     "evalue": "name 'numbers' is not defined",
     "output_type": "error",
     "traceback": [
      "\u001b[1;31m---------------------------------------------------------------------------\u001b[0m",
      "\u001b[1;31mNameError\u001b[0m                                 Traceback (most recent call last)",
      "Cell \u001b[1;32mIn[68], line 6\u001b[0m\n\u001b[0;32m      1\u001b[0m \u001b[38;5;66;03m#23 How can you use the \"filter()\" function with if-else statements to filter elements from a list?\u001b[39;00m\n\u001b[0;32m      2\u001b[0m \n\u001b[0;32m      3\u001b[0m \u001b[38;5;66;03m#ans \u001b[39;00m\n\u001b[0;32m      4\u001b[0m \n\u001b[0;32m      5\u001b[0m \u001b[38;5;66;03m# Use filter() with a lambda function to filter even numbers\u001b[39;00m\n\u001b[1;32m----> 6\u001b[0m filtered_numbers \u001b[38;5;241m=\u001b[39m \u001b[38;5;28mfilter\u001b[39m(\u001b[38;5;28;01mlambda\u001b[39;00m x: x \u001b[38;5;241m%\u001b[39m \u001b[38;5;241m2\u001b[39m \u001b[38;5;241m==\u001b[39m \u001b[38;5;241m0\u001b[39m, \u001b[43mnumbers\u001b[49m)\n\u001b[0;32m      8\u001b[0m \u001b[38;5;66;03m# Convert the result to a list and print\u001b[39;00m\n\u001b[0;32m      9\u001b[0m even_numbers \u001b[38;5;241m=\u001b[39m \u001b[38;5;28mlist\u001b[39m(filtered_numbers)\n",
      "\u001b[1;31mNameError\u001b[0m: name 'numbers' is not defined"
     ]
    }
   ],
   "source": [
    "#23 How can you use the \"filter()\" function with if-else statements to filter elements from a list?\n",
    "\n",
    "#ans \n",
    "\n",
    "# Use filter() with a lambda function to filter even numbers\n",
    "filtered_numbers = filter(lambda x: x % 2 == 0, numbers)\n",
    "\n",
    "# Convert the result to a list and print\n",
    "even_numbers = list(filtered_numbers)\n",
    "print(\"Filtered list (even numbers):\", even_numbers)\n",
    "\n"
   ]
  },
  {
   "cell_type": "code",
   "execution_count": 69,
   "id": "bf77bbe1-75d1-4d0c-b7d6-a90a7e7cb534",
   "metadata": {},
   "outputs": [
    {
     "name": "stdin",
     "output_type": "stream",
     "text": [
      "Enter a number:  33\n"
     ]
    },
    {
     "name": "stdout",
     "output_type": "stream",
     "text": [
      "33 is not a prime number.\n"
     ]
    }
   ],
   "source": [
    "#24 Write a Python program to determine if a given number is prime or not using if-else.\n",
    "\n",
    "#ans \n",
    "\n",
    "# Input: Get the number from the user\n",
    "user_number = int(input(\"Enter a number: \"))\n",
    "\n",
    "# Check if the number is greater than 1\n",
    "if user_number > 1:\n",
    "    # Check for factors using a loop\n",
    "    for i in range(2, int(user_number**0.5) + 1):\n",
    "        if user_number % i == 0:\n",
    "            print(f\"{user_number} is not a prime number.\")\n",
    "            break\n",
    "    else:\n",
    "        print(f\"{user_number} is a prime number.\")\n",
    "else:\n",
    "    print(f\"{user_number} is not a prime number.\")\n"
   ]
  },
  {
   "cell_type": "code",
   "execution_count": 70,
   "id": "7a3fe555-1fce-40fb-8ff5-b1e5fcd9a57f",
   "metadata": {},
   "outputs": [],
   "source": [
    "#MAPS \n"
   ]
  },
  {
   "cell_type": "code",
   "execution_count": 71,
   "id": "bd424bfe-6592-49c8-938f-c0155cb6b493",
   "metadata": {},
   "outputs": [],
   "source": [
    "#1 Explain the purpose of the `map()` function in Python and provide an example of how it can be used to apply a function to each element of an iterable.\n",
    "\n",
    "#ans \n",
    "\n",
    "#The `map()` function in Python is used to apply a specified function to each item of an iterable (such as a list, tuple, or other iterable objects) and returns an iterator that produces the results. The `map()` function takes two arguments: the function to apply and the iterable on which the function should be applied.\n"
   ]
  },
  {
   "cell_type": "code",
   "execution_count": 72,
   "id": "345ad631-a207-401e-820c-bbc4e3274407",
   "metadata": {},
   "outputs": [
    {
     "name": "stdout",
     "output_type": "stream",
     "text": [
      "Original list: [1, 2, 3, 4, 5]\n",
      "Squared list: [1, 4, 9, 16, 25]\n"
     ]
    }
   ],
   "source": [
    "#2 Write a Python program that uses the `map()` function to square each element of a list of numbers.\n",
    "\n",
    "#ans \n",
    "\n",
    "# Function to square a number\n",
    "def square(x):\n",
    "    return x ** 2\n",
    "\n",
    "# List of numbers\n",
    "numbers = [1, 2, 3, 4, 5]\n",
    "\n",
    "# Use map() to apply the square function to each element of the list\n",
    "squared_numbers = map(square, numbers)\n",
    "\n",
    "# Convert the result to a list (as map() returns an iterator)\n",
    "result_list = list(squared_numbers)\n",
    "\n",
    "# Print the result\n",
    "print(\"Original list:\", numbers)\n",
    "print(\"Squared list:\", result_list)\n"
   ]
  },
  {
   "cell_type": "code",
   "execution_count": 73,
   "id": "ca9d3d8a-80a1-4cb5-958a-072b4fa8960e",
   "metadata": {},
   "outputs": [],
   "source": [
    "#3 How does the `map()` function differ from a list comprehension in Python, and when would you choose one over the other?\n",
    "\n",
    "#ans \n",
    "\n",
    "#The `map()` function and list comprehensions in Python are both used to apply a function to each element of an iterable, but they have some differences in terms of syntax and use cases.\n",
    "\n"
   ]
  },
  {
   "cell_type": "code",
   "execution_count": 74,
   "id": "a27049fe-f019-406d-b618-709703c36886",
   "metadata": {},
   "outputs": [
    {
     "name": "stdout",
     "output_type": "stream",
     "text": [
      "Original list of names: ['Alice', 'Bob', 'Charlie', 'David']\n",
      "Uppercase names: ['ALICE', 'BOB', 'CHARLIE', 'DAVID']\n"
     ]
    }
   ],
   "source": [
    "#4 Create a Python program that uses the `map()` function to convert a list of names to uppercase.\n",
    "\n",
    "#ans \n",
    "# List of names\n",
    "names = [\"Alice\", \"Bob\", \"Charlie\", \"David\"]\n",
    "\n",
    "# Use map() to convert each name to uppercase\n",
    "uppercase_names = map(str.upper, names)\n",
    "\n",
    "# Convert the result to a list (as map() returns an iterator)\n",
    "result_list = list(uppercase_names)\n",
    "\n",
    "# Print the result\n",
    "print(\"Original list of names:\", names)\n",
    "print(\"Uppercase names:\", result_list)\n",
    "\n"
   ]
  },
  {
   "cell_type": "code",
   "execution_count": 75,
   "id": "79b29463-d3c8-4cd8-b428-026a5b89332e",
   "metadata": {},
   "outputs": [
    {
     "name": "stdout",
     "output_type": "stream",
     "text": [
      "Original list of strings: ['Hello', 'Python', 'Programming', 'Language']\n",
      "Word lengths: [5, 6, 11, 8]\n"
     ]
    }
   ],
   "source": [
    "#5 Write a Python program that uses the `map()` function to calculate the length of each word in a list of strings.\n",
    "\n",
    "#ans \n",
    "\n",
    "# List of strings\n",
    "string_list = [\"Hello\", \"Python\", \"Programming\", \"Language\"]\n",
    "\n",
    "# Use map() to apply len function to each word in the list\n",
    "word_lengths = map(len, string_list)\n",
    "\n",
    "# Convert the result to a list (as map() returns an iterator)\n",
    "result_list = list(word_lengths)\n",
    "\n",
    "# Print the result\n",
    "print(\"Original list of strings:\", string_list)\n",
    "print(\"Word lengths:\", result_list)\n",
    "\n"
   ]
  },
  {
   "cell_type": "code",
   "execution_count": 76,
   "id": "addc04c7-ae83-49f6-bce9-5068884a958b",
   "metadata": {},
   "outputs": [
    {
     "name": "stdout",
     "output_type": "stream",
     "text": [
      "List 1: [1, 2, 3, 4]\n",
      "List 2: [5, 6, 7, 8]\n",
      "Result after adding corresponding elements: [6, 8, 10, 12]\n"
     ]
    }
   ],
   "source": [
    "#6 How can you use the `map()` function to apply a custom function to elements of multiple lists simultaneously in Python?\n",
    "\n",
    "#ans \n",
    "\n",
    "# Custom function to add corresponding elements of two lists\n",
    "def add_elements(x, y):\n",
    "    return x + y\n",
    "\n",
    "# Two lists of numbers\n",
    "list1 = [1, 2, 3, 4]\n",
    "list2 = [5, 6, 7, 8]\n",
    "\n",
    "# Use map() to apply the add_elements function to corresponding elements of the two lists\n",
    "result_list = map(add_elements, list1, list2)\n",
    "\n",
    "# Convert the result to a list (as map() returns an iterator)\n",
    "result_list = list(result_list)\n",
    "\n",
    "# Print the result\n",
    "print(\"List 1:\", list1)\n",
    "print(\"List 2:\", list2)\n",
    "print(\"Result after adding corresponding elements:\", result_list)\n"
   ]
  },
  {
   "cell_type": "code",
   "execution_count": 77,
   "id": "80e2fb09-5a8d-4036-8af0-33852ac08386",
   "metadata": {},
   "outputs": [
    {
     "name": "stdout",
     "output_type": "stream",
     "text": [
      "Temperatures in Celsius: [0, 10, 20, 30, 40]\n",
      "Temperatures in Fahrenheit: [32.0, 50.0, 68.0, 86.0, 104.0]\n"
     ]
    }
   ],
   "source": [
    "#7 Create a Python program that uses `map()` to convert a list of temperatures from Celsius to Fahrenheit.\n",
    "\n",
    "#ansa \n",
    "\n",
    "# Custom function to convert Celsius to Fahrenheit\n",
    "def celsius_to_fahrenheit(celsius):\n",
    "    return (celsius * 9/5) + 32\n",
    "\n",
    "# List of temperatures in Celsius\n",
    "celsius_temperatures = [0, 10, 20, 30, 40]\n",
    "\n",
    "# Use map() to apply the celsius_to_fahrenheit function to each temperature in the list\n",
    "fahrenheit_temperatures = map(celsius_to_fahrenheit, celsius_temperatures)\n",
    "\n",
    "# Convert the result to a list (as map() returns an iterator)\n",
    "fahrenheit_temperatures = list(fahrenheit_temperatures)\n",
    "\n",
    "# Print the result\n",
    "print(\"Temperatures in Celsius:\", celsius_temperatures)\n",
    "print(\"Temperatures in Fahrenheit:\", fahrenheit_temperatures)\n"
   ]
  },
  {
   "cell_type": "code",
   "execution_count": 78,
   "id": "9d3e915b-b0ab-476b-9d3d-d6605e048064",
   "metadata": {},
   "outputs": [
    {
     "name": "stdout",
     "output_type": "stream",
     "text": [
      "Original list of floating-point numbers: [1.5, 2.7, 3.3, 4.8, 5.1]\n",
      "Rounded integers: [2, 3, 3, 5, 5]\n"
     ]
    }
   ],
   "source": [
    "#8 Write a Python program that uses the `map()` function to round each element of a list of floating-point numbers to the nearest integer.\n",
    "\n",
    "#ans \n",
    "\n",
    "# List of floating-point numbers\n",
    "float_numbers = [1.5, 2.7, 3.3, 4.8, 5.1]\n",
    "\n",
    "# Use map() to apply the round function to each floating-point number in the list\n",
    "rounded_integers = map(round, float_numbers)\n",
    "\n",
    "# Convert the result to a list (as map() returns an iterator)\n",
    "result_list = list(rounded_integers)\n",
    "\n",
    "# Print the result\n",
    "print(\"Original list of floating-point numbers:\", float_numbers)\n",
    "print(\"Rounded integers:\", result_list)\n"
   ]
  },
  {
   "cell_type": "code",
   "execution_count": 79,
   "id": "e2aaa003-9011-4d0b-a33c-24634151a440",
   "metadata": {},
   "outputs": [],
   "source": [
    "#REDUCE "
   ]
  },
  {
   "cell_type": "code",
   "execution_count": 80,
   "id": "794f5dac-a19c-48ed-afd1-790c15d9d04c",
   "metadata": {},
   "outputs": [
    {
     "name": "stdout",
     "output_type": "stream",
     "text": [
      "Original list of numbers: [1, 2, 3, 4, 5]\n",
      "Result after applying reduce(add, numbers): 15\n"
     ]
    }
   ],
   "source": [
    "#1 What is the `reduce()` function in Python, and what module should you import to use it? Provide an example of its basic usage.\n",
    "\n",
    "\n",
    "#ans \n",
    "\n",
    "from functools import reduce\n",
    "\n",
    "# Custom function to add two numbers\n",
    "def add(x, y):\n",
    "    return x + y\n",
    "\n",
    "# List of numbers\n",
    "numbers = [1, 2, 3, 4, 5]\n",
    "\n",
    "# Use reduce() to apply the add function cumulatively to the list of numbers\n",
    "result = reduce(add, numbers)\n",
    "\n",
    "# Print the result\n",
    "print(\"Original list of numbers:\", numbers)\n",
    "print(\"Result after applying reduce(add, numbers):\", result)\n"
   ]
  },
  {
   "cell_type": "code",
   "execution_count": 81,
   "id": "68401fb6-8dee-45b9-8f39-3e0cf17f711e",
   "metadata": {},
   "outputs": [
    {
     "name": "stdout",
     "output_type": "stream",
     "text": [
      "Original list of numbers: [2, 3, 4, 5]\n",
      "Product of all elements: 120\n"
     ]
    }
   ],
   "source": [
    "#2 Write a Python program that uses the `reduce()` function to find the product of all elements in a list.\n",
    "\n",
    "#ans \n",
    "\n",
    "from functools import reduce\n",
    "\n",
    "# Custom function to multiply two numbers\n",
    "def multiply(x, y):\n",
    "    return x * y\n",
    "\n",
    "# List of numbers\n",
    "numbers = [2, 3, 4, 5]\n",
    "\n",
    "# Use reduce() to apply the multiply function cumulatively to the list of numbers\n",
    "product = reduce(multiply, numbers)\n",
    "\n",
    "# Print the result\n",
    "print(\"Original list of numbers:\", numbers)\n",
    "print(\"Product of all elements:\", product)\n"
   ]
  },
  {
   "cell_type": "code",
   "execution_count": 82,
   "id": "6efb8bba-0325-4aad-9142-a4d9bd22fddc",
   "metadata": {},
   "outputs": [
    {
     "name": "stdout",
     "output_type": "stream",
     "text": [
      "Original list of numbers: [12, 5, 27, 8, 15]\n",
      "Maximum element: 27\n"
     ]
    }
   ],
   "source": [
    "#3 Create a Python program that uses `reduce()` to find the maximum element in a list of numbers.\n",
    "\n",
    "#ans \n",
    "\n",
    "from functools import reduce\n",
    "\n",
    "# Custom function to find the maximum of two numbers\n",
    "def find_max(x, y):\n",
    "    return max(x, y)\n",
    "\n",
    "# List of numbers\n",
    "numbers = [12, 5, 27, 8, 15]\n",
    "\n",
    "# Use reduce() to apply the find_max function cumulatively to the list of numbers\n",
    "max_element = reduce(find_max, numbers)\n",
    "\n",
    "# Print the result\n",
    "print(\"Original list of numbers:\", numbers)\n",
    "print(\"Maximum element:\", max_element)\n"
   ]
  },
  {
   "cell_type": "code",
   "execution_count": 83,
   "id": "93818577-d3d4-453b-a6f6-c272805c42f6",
   "metadata": {},
   "outputs": [
    {
     "name": "stdout",
     "output_type": "stream",
     "text": [
      "Original list of strings: ['Hello', ', ', 'world', '!']\n",
      "Concatenated string: Hello, world!\n"
     ]
    }
   ],
   "source": [
    "#4 How can you use the `reduce()` function to concatenate a list of strings into a single string?\n",
    "\n",
    "#ans \n",
    "\n",
    "from functools import reduce\n",
    "\n",
    "# Custom function to concatenate two strings\n",
    "def concatenate_strings(x, y):\n",
    "    return x + y\n",
    "\n",
    "# List of strings\n",
    "string_list = [\"Hello\", \", \", \"world\", \"!\"]\n",
    "\n",
    "# Use reduce() to apply the concatenate_strings function cumulatively to the list of strings\n",
    "result_string = reduce(concatenate_strings, string_list)\n",
    "\n",
    "# Print the result\n",
    "print(\"Original list of strings:\", string_list)\n",
    "print(\"Concatenated string:\", result_string)\n"
   ]
  },
  {
   "cell_type": "code",
   "execution_count": 84,
   "id": "522f395c-8ca8-4f24-93d3-1ee045aebbef",
   "metadata": {},
   "outputs": [
    {
     "name": "stdin",
     "output_type": "stream",
     "text": [
      "Enter a number:  23\n"
     ]
    },
    {
     "name": "stdout",
     "output_type": "stream",
     "text": [
      "The factorial of 23 is: 25852016738884976640000\n"
     ]
    }
   ],
   "source": [
    "#5 Write a Python program that calculates the factorial of a number using the `reduce()` function.\n",
    "\n",
    "#ans \n",
    "\n",
    "from functools import reduce\n",
    "\n",
    "# Custom function to calculate the factorial of a number\n",
    "def calculate_factorial(x, y):\n",
    "    return x * y\n",
    "\n",
    "# Input: Get the number from the user\n",
    "user_number = int(input(\"Enter a number: \"))\n",
    "\n",
    "# List of numbers from 1 to the user input\n",
    "numbers = list(range(1, user_number + 1))\n",
    "\n",
    "# Use reduce() to apply the calculate_factorial function cumulatively to the list of numbers\n",
    "factorial_result = reduce(calculate_factorial, numbers, 1)\n",
    "\n",
    "# Print the result\n",
    "print(f\"The factorial of {user_number} is:\", factorial_result)\n"
   ]
  },
  {
   "cell_type": "code",
   "execution_count": 85,
   "id": "0261766a-b769-4831-b025-86b067ea2110",
   "metadata": {},
   "outputs": [
    {
     "name": "stdout",
     "output_type": "stream",
     "text": [
      "Original list of numbers: [36, 48, 60, 72]\n",
      "GCD of the numbers: 12\n"
     ]
    }
   ],
   "source": [
    "#7 Write a Python program that uses the `reduce()` function to find the sum of the digits of a given number.\n",
    "\n",
    "#ans \n",
    "\n",
    "from functools import reduce\n",
    "from math import gcd\n",
    "\n",
    "# Custom function to calculate the GCD of two numbers\n",
    "def calculate_gcd(x, y):\n",
    "    return gcd(x, y)\n",
    "\n",
    "# List of numbers\n",
    "numbers = [36, 48, 60, 72]\n",
    "\n",
    "# Use reduce() to apply the calculate_gcd function cumulatively to the list of numbers\n",
    "gcd_result = reduce(calculate_gcd, numbers)\n",
    "\n",
    "# Print the result\n",
    "print(\"Original list of numbers:\", numbers)\n",
    "print(\"GCD of the numbers:\", gcd_result)\n"
   ]
  },
  {
   "cell_type": "code",
   "execution_count": 86,
   "id": "254eccef-8b3a-4c76-8da5-dd38853dcca9",
   "metadata": {},
   "outputs": [],
   "source": [
    "#FILTER"
   ]
  },
  {
   "cell_type": "code",
   "execution_count": 87,
   "id": "fe37eace-7202-47c9-8bc4-f1b96d9d10c1",
   "metadata": {},
   "outputs": [
    {
     "name": "stdout",
     "output_type": "stream",
     "text": [
      "Original list of numbers: [1, 2, 3, 4, 5, 6, 7, 8, 9, 10]\n",
      "Filtered even numbers: [2, 4, 6, 8, 10]\n"
     ]
    }
   ],
   "source": [
    "#1 Explain the purpose of the `filter()` function in Python and provide an example of how it can be used to filter elements from an iterable.\n",
    "\n",
    "\n",
    "#ans \n",
    "\n",
    "# Custom function to filter even numbers\n",
    "def is_even(num):\n",
    "    return num % 2 == 0\n",
    "\n",
    "# List of numbers\n",
    "numbers = [1, 2, 3, 4, 5, 6, 7, 8, 9, 10]\n",
    "\n",
    "# Use filter() to filter even numbers from the list\n",
    "filtered_numbers = filter(is_even, numbers)\n",
    "\n",
    "# Convert the result to a list (as filter() returns an iterator)\n",
    "result_list = list(filtered_numbers)\n",
    "\n",
    "# Print the result\n",
    "print(\"Original list of numbers:\", numbers)\n",
    "print(\"Filtered even numbers:\", result_list)\n",
    "\n"
   ]
  },
  {
   "cell_type": "code",
   "execution_count": 88,
   "id": "9a3f739e-6596-4268-8c85-90ee28bd634c",
   "metadata": {},
   "outputs": [
    {
     "name": "stdout",
     "output_type": "stream",
     "text": [
      "Original list of numbers: [1, 2, 3, 4, 5, 6, 7, 8, 9, 10]\n",
      "Filtered even numbers: [2, 4, 6, 8, 10]\n"
     ]
    }
   ],
   "source": [
    "#2 Write a Python program that uses the `filter()` function to select even numbers from a list of integers.\n",
    "\n",
    "#ans =\n",
    "\n",
    "# Custom function to filter even numbers\n",
    "def is_even(num):\n",
    "    return num % 2 == 0\n",
    "\n",
    "# List of numbers\n",
    "numbers = [1, 2, 3, 4, 5, 6, 7, 8, 9, 10]\n",
    "\n",
    "# Use filter() to filter even numbers from the list\n",
    "filtered_numbers = filter(is_even, numbers)\n",
    "\n",
    "# Convert the result to a list (as filter() returns an iterator)\n",
    "result_list = list(filtered_numbers)\n",
    "\n",
    "# Print the result\n",
    "print(\"Original list of numbers:\", numbers)\n",
    "print(\"Filtered even numbers:\", result_list)\n"
   ]
  },
  {
   "cell_type": "code",
   "execution_count": 89,
   "id": "2e4646ee-e73c-43e1-9092-22d7e72f6d7c",
   "metadata": {},
   "outputs": [
    {
     "name": "stdout",
     "output_type": "stream",
     "text": [
      "Original list of names: ['Alice', 'Bob', 'Charlie', 'David', 'Eve']\n",
      "Filtered names starting with 'D': ['David']\n"
     ]
    }
   ],
   "source": [
    "#3 Create a Python program that uses the `filter()` function to select names that start with a specific letter from a list of strings.\n",
    "\n",
    "#ans \n",
    "\n",
    "# Custom function to filter names starting with a specific letter\n",
    "def starts_with_letter(name, letter):\n",
    "    return name.startswith(letter)\n",
    "\n",
    "# List of names\n",
    "names = [\"Alice\", \"Bob\", \"Charlie\", \"David\", \"Eve\"]\n",
    "\n",
    "# Letter to filter names\n",
    "selected_letter = \"D\"\n",
    "\n",
    "# Use filter() to filter names starting with the specified letter\n",
    "filtered_names = filter(lambda x: starts_with_letter(x, selected_letter), names)\n",
    "\n",
    "# Convert the result to a list (as filter() returns an iterator)\n",
    "result_list = list(filtered_names)\n",
    "\n",
    "# Print the result\n",
    "print(\"Original list of names:\", names)\n",
    "print(f\"Filtered names starting with '{selected_letter}':\", result_list)\n"
   ]
  },
  {
   "cell_type": "code",
   "execution_count": 90,
   "id": "6bb090cb-bcae-4e6b-8082-53391c53cd7d",
   "metadata": {},
   "outputs": [
    {
     "name": "stdout",
     "output_type": "stream",
     "text": [
      "Original list of numbers: [2, 3, 4, 5, 6, 7, 8, 9, 10, 11, 12, 13, 14, 15]\n",
      "Filtered prime numbers: [2, 3, 5, 7, 11, 13]\n"
     ]
    }
   ],
   "source": [
    "#4 Write a Python program that uses the `filter()` function to select prime numbers from a list of integers.\n",
    "\n",
    "#ans \n",
    "\n",
    "# Custom function to check if a number is prime\n",
    "def is_prime(num):\n",
    "    if num < 2:\n",
    "        return False\n",
    "    for i in range(2, int(num**0.5) + 1):\n",
    "        if num % i == 0:\n",
    "            return False\n",
    "    return True\n",
    "\n",
    "# List of numbers\n",
    "numbers = [2, 3, 4, 5, 6, 7, 8, 9, 10, 11, 12, 13, 14, 15]\n",
    "\n",
    "# Use filter() to filter prime numbers from the list\n",
    "filtered_primes = filter(is_prime, numbers)\n",
    "\n",
    "# Convert the result to a list (as filter() returns an iterator)\n",
    "result_list = list(filtered_primes)\n",
    "\n",
    "# Print the result\n",
    "print(\"Original list of numbers:\", numbers)\n",
    "print(\"Filtered prime numbers:\", result_list)\n"
   ]
  },
  {
   "cell_type": "code",
   "execution_count": 91,
   "id": "98cf46e0-55ba-4a68-8246-03a165056311",
   "metadata": {},
   "outputs": [
    {
     "name": "stdout",
     "output_type": "stream",
     "text": [
      "Original list with None values: [1, None, 3, None, 5, None, 7, None, 9]\n",
      "List after removing None values: [1, 3, 5, 7, 9]\n"
     ]
    }
   ],
   "source": [
    "#5 How can you use the `filter()` function to remove None values from a list in Python?\n",
    "\n",
    "\n",
    "# List with None values\n",
    "mixed_list = [1, None, 3, None, 5, None, 7, None, 9]\n",
    "\n",
    "# Use filter() to remove None values from the list\n",
    "filtered_list = filter(lambda x: x is not None, mixed_list)\n",
    "\n",
    "# Convert the result to a list (as filter() returns an iterator)\n",
    "result_list = list(filtered_list)\n",
    "\n",
    "# Print the result\n",
    "print(\"Original list with None values:\", mixed_list)\n",
    "print(\"List after removing None values:\", result_list)\n"
   ]
  },
  {
   "cell_type": "code",
   "execution_count": 92,
   "id": "cc5bbfd6-5a65-4c9a-a5ea-859841071e02",
   "metadata": {},
   "outputs": [
    {
     "name": "stdout",
     "output_type": "stream",
     "text": [
      "Original list of words: ['apple', 'banana', 'grape', 'kiwi', 'orange']\n",
      "Filtered words longer than 5 characters: ['banana', 'orange']\n"
     ]
    }
   ],
   "source": [
    "#6 Create a Python program that uses `filter()` to select words longer than a certain length from a list of strings.\n",
    "\n",
    "#ans \n",
    "\n",
    "# Custom function to filter words longer than a specified length\n",
    "def is_long_word(word, min_length):\n",
    "    return len(word) > min_length\n",
    "\n",
    "# List of strings\n",
    "word_list = [\"apple\", \"banana\", \"grape\", \"kiwi\", \"orange\"]\n",
    "\n",
    "# Minimum length for filtering\n",
    "min_word_length = 5\n",
    "\n",
    "# Use filter() to filter words longer than the specified length\n",
    "filtered_words = filter(lambda x: is_long_word(x, min_word_length), word_list)\n",
    "\n",
    "# Convert the result to a list (as filter() returns an iterator)\n",
    "result_list = list(filtered_words)\n",
    "\n",
    "# Print the result\n",
    "print(\"Original list of words:\", word_list)\n",
    "print(f\"Filtered words longer than {min_word_length} characters:\", result_list)\n"
   ]
  },
  {
   "cell_type": "code",
   "execution_count": 93,
   "id": "96f260ba-6f6a-473d-8cb5-b0431ad29a0f",
   "metadata": {},
   "outputs": [
    {
     "name": "stdout",
     "output_type": "stream",
     "text": [
      "Original list of values: [15, 25, 10, 35, 20, 30]\n",
      "Filtered values greater than 20: [25, 35, 30]\n"
     ]
    }
   ],
   "source": [
    "#7 Write a Python program that uses the `filter()` function to select elements greater than a specified threshold from a list of values.\n",
    "\n",
    "#ans \n",
    "\n",
    "# Custom function to filter elements greater than a specified threshold\n",
    "def is_greater_than_threshold(value, threshold):\n",
    "    return value > threshold\n",
    "\n",
    "# List of values\n",
    "value_list = [15, 25, 10, 35, 20, 30]\n",
    "\n",
    "# Threshold for filtering\n",
    "threshold_value = 20\n",
    "\n",
    "# Use filter() to filter elements greater than the specified threshold\n",
    "filtered_values = filter(lambda x: is_greater_than_threshold(x, threshold_value), value_list)\n",
    "\n",
    "# Convert the result to a list (as filter() returns an iterator)\n",
    "result_list = list(filtered_values)\n",
    "\n",
    "# Print the result\n",
    "print(\"Original list of values:\", value_list)\n",
    "print(f\"Filtered values greater than {threshold_value}:\", result_list)\n"
   ]
  },
  {
   "cell_type": "code",
   "execution_count": 94,
   "id": "d76cb504-c866-41e2-9e99-1a6e190992ff",
   "metadata": {},
   "outputs": [],
   "source": [
    "#RECURSION \n"
   ]
  },
  {
   "cell_type": "code",
   "execution_count": 95,
   "id": "245be0db-91b3-4c01-8c14-62a27edcc1f5",
   "metadata": {},
   "outputs": [],
   "source": [
    "#1 Explain the concept of recursion in Python. How does it differ from iteration?\n",
    "\n",
    "#ans \n",
    "\n",
    "#recursion involves a function calling itself to solve smaller instances of the same problem, while iteration involves using loops to repeatedly execute a set of statements until a condition is met. Each approach has its advantages and use cases."
   ]
  },
  {
   "cell_type": "code",
   "execution_count": 96,
   "id": "4fd549cf-10a0-4eb7-93f2-9cefd8470bc3",
   "metadata": {},
   "outputs": [
    {
     "name": "stdin",
     "output_type": "stream",
     "text": [
      "Enter a number to calculate its factorial:  3\n"
     ]
    },
    {
     "name": "stdout",
     "output_type": "stream",
     "text": [
      "The factorial of 3 is: 6\n"
     ]
    }
   ],
   "source": [
    "#2 Write a Python program to calculate the factorial of a number using recursion.\n",
    "\n",
    "#ans \n",
    "\n",
    "def factorial(n):\n",
    "    # Base case: factorial of 0 or 1 is 1\n",
    "    if n == 0 or n == 1:\n",
    "        return 1\n",
    "    # Recursive case: n! = n * (n-1)!\n",
    "    else:\n",
    "        return n * factorial(n - 1)\n",
    "\n",
    "# Get user input for the number\n",
    "user_number = int(input(\"Enter a number to calculate its factorial: \"))\n",
    "\n",
    "# Call the recursive function to calculate factorial\n",
    "result = factorial(user_number)\n",
    "\n",
    "# Print the result\n",
    "print(f\"The factorial of {user_number} is:\", result)\n"
   ]
  },
  {
   "cell_type": "code",
   "execution_count": 97,
   "id": "71764059-feff-418a-b71f-2c11dc939f53",
   "metadata": {},
   "outputs": [
    {
     "name": "stdin",
     "output_type": "stream",
     "text": [
      "Enter the value of n to find the nth Fibonacci number:  3\n"
     ]
    },
    {
     "name": "stdout",
     "output_type": "stream",
     "text": [
      "The 3th Fibonacci number is: 2\n"
     ]
    }
   ],
   "source": [
    "#3 Create a recursive Python function to find the nth Fibonacci number.\n",
    "\n",
    "#NS \n",
    "\n",
    "def fibonacci(n):\n",
    "    # Base cases: Fibonacci of 0 is 0, and Fibonacci of 1 is 1\n",
    "    if n == 0:\n",
    "        return 0\n",
    "    elif n == 1:\n",
    "        return 1\n",
    "    # Recursive case: Fibonacci(n) = Fibonacci(n-1) + Fibonacci(n-2)\n",
    "    else:\n",
    "        return fibonacci(n - 1) + fibonacci(n - 2)\n",
    "\n",
    "# Get user input for the value of n\n",
    "user_n = int(input(\"Enter the value of n to find the nth Fibonacci number: \"))\n",
    "\n",
    "# Call the recursive function to find the nth Fibonacci number\n",
    "result = fibonacci(user_n)\n",
    "\n",
    "# Print the result\n",
    "print(f\"The {user_n}th Fibonacci number is:\", result)\n"
   ]
  },
  {
   "cell_type": "code",
   "execution_count": 98,
   "id": "89465071-5403-4ade-9780-d2116809bf14",
   "metadata": {},
   "outputs": [
    {
     "name": "stdout",
     "output_type": "stream",
     "text": [
      "The sum of the elements in the list is: 15\n"
     ]
    }
   ],
   "source": [
    "#4 Write a recursive Python function to calculate the sum of all elements in a list.\n",
    "\n",
    "#ans \n",
    "\n",
    "def recursive_sum(lst):\n",
    "    # Base case: if the list is empty, the sum is 0\n",
    "    if not lst:\n",
    "        return 0\n",
    "    # Recursive case: sum = first element + sum of rest of the elements\n",
    "    else:\n",
    "        return lst[0] + recursive_sum(lst[1:])\n",
    "\n",
    "# Example list\n",
    "numbers = [1, 2, 3, 4, 5]\n",
    "\n",
    "# Call the recursive function to calculate the sum\n",
    "result = recursive_sum(numbers)\n",
    "\n",
    "# Print the result\n",
    "print(\"The sum of the elements in the list is:\", result)\n"
   ]
  },
  {
   "cell_type": "code",
   "execution_count": 100,
   "id": "c9ef26c5-a357-441a-be9d-a69cf2cc555f",
   "metadata": {},
   "outputs": [],
   "source": [
    "#5 How can you prevent a recursive function from running indefinitely, causing a stack overflow error?\n",
    "\n",
    "#ans \n",
    "\n",
    "#To prevent a recursive function from running indefinitely and causing a stack overflow error, you can implement proper base cases and ensure that the input to the recursive calls approaches the base case\n"
   ]
  },
  {
   "cell_type": "code",
   "execution_count": 101,
   "id": "d7c648e8-8c31-4b88-b943-2f1eae517bfe",
   "metadata": {},
   "outputs": [
    {
     "name": "stdout",
     "output_type": "stream",
     "text": [
      "The GCD of 48 and 18 is 6\n"
     ]
    }
   ],
   "source": [
    "#6 Create a recursive Python function to find the greatest common divisor (GCD) of two numbers using the Euclidean algorithm.\n",
    "\n",
    "#ans \n",
    "\n",
    "def gcd_recursive(a, b):\n",
    "    # Base case: GCD of any number and 0 is the number itself\n",
    "    if b == 0:\n",
    "        return a\n",
    "    else:\n",
    "        # Recursive case: Call the function with (b, a % b)\n",
    "        return gcd_recursive(b, a % b)\n",
    "\n",
    "# Example usage:\n",
    "num1 = 48\n",
    "num2 = 18\n",
    "result = gcd_recursive(num1, num2)\n",
    "print(f\"The GCD of {num1} and {num2} is {result}\")\n"
   ]
  },
  {
   "cell_type": "code",
   "execution_count": 102,
   "id": "cd662166-9595-43a6-8a56-b5ce0c5927b5",
   "metadata": {},
   "outputs": [
    {
     "name": "stdout",
     "output_type": "stream",
     "text": [
      "The original string: Hello, World!\n",
      "The reversed string: !dlroW ,olleH\n"
     ]
    }
   ],
   "source": [
    "#7 Write a recursive Python function to reverse a string.\n",
    "\n",
    "#ans \n",
    "def reverse_string_recursive(s):\n",
    "    # Base case: an empty string is already reversed\n",
    "    if not s:\n",
    "        return s\n",
    "    else:\n",
    "        # Recursive case: reverse the substring excluding the last character\n",
    "        # and concatenate the last character at the beginning\n",
    "        return s[-1] + reverse_string_recursive(s[:-1])\n",
    "\n",
    "# Example usage:\n",
    "original_string = \"Hello, World!\"\n",
    "reversed_string = reverse_string_recursive(original_string)\n",
    "print(f\"The original string: {original_string}\")\n",
    "print(f\"The reversed string: {reversed_string}\")\n",
    "\n"
   ]
  },
  {
   "cell_type": "code",
   "execution_count": 103,
   "id": "6f35a8be-f9f8-432b-ba29-706e432ab8a5",
   "metadata": {},
   "outputs": [
    {
     "name": "stdout",
     "output_type": "stream",
     "text": [
      "2^3 is 8\n"
     ]
    }
   ],
   "source": [
    "#8 Create a recursive Python function to calculate the power of a number (x^n).\n",
    "\n",
    "#ans \n",
    "\n",
    "def power_recursive(x, n):\n",
    "    # Base case: any number raised to the power of 0 is 1\n",
    "    if n == 0:\n",
    "        return 1\n",
    "    else:\n",
    "        # Recursive case: x^n = x * x^(n-1)\n",
    "        return x * power_recursive(x, n - 1)\n",
    "\n",
    "# Example usage:\n",
    "base = 2\n",
    "exponent = 3\n",
    "result = power_recursive(base, exponent)\n",
    "print(f\"{base}^{exponent} is {result}\")\n"
   ]
  },
  {
   "cell_type": "code",
   "execution_count": 104,
   "id": "e63a7ed8-fd16-4b4c-af45-df22669b33cd",
   "metadata": {},
   "outputs": [
    {
     "name": "stdout",
     "output_type": "stream",
     "text": [
      "All permutations of 'abc': ['abc', 'acb', 'bac', 'bca', 'cab', 'cba']\n"
     ]
    }
   ],
   "source": [
    "#9 Write a recursive Python function to find all permutations of a given string.\n",
    "\n",
    "#ans \n",
    "\n",
    "def get_permutations(s):\n",
    "    # Base case: if the string has only one character, return a list with that character\n",
    "    if len(s) == 1:\n",
    "        return [s]\n",
    "\n",
    "    # Recursive case: for each character in the string, generate permutations\n",
    "    result = []\n",
    "    for i in range(len(s)):\n",
    "        # Choose the current character\n",
    "        current_char = s[i]\n",
    "\n",
    "        # Generate permutations of the remaining characters\n",
    "        remaining_chars = s[:i] + s[i+1:]\n",
    "        permutations_of_remaining = get_permutations(remaining_chars)\n",
    "\n",
    "        # Concatenate the current character with each permutation of the remaining characters\n",
    "        for perm in permutations_of_remaining:\n",
    "            result.append(current_char + perm)\n",
    "\n",
    "    return result\n",
    "\n",
    "# Example usage:\n",
    "input_string = \"abc\"\n",
    "permutations = get_permutations(input_string)\n",
    "print(f\"All permutations of '{input_string}': {permutations}\")\n"
   ]
  },
  {
   "cell_type": "code",
   "execution_count": 105,
   "id": "f6efb05b-fc44-4abe-90b7-352b016387b2",
   "metadata": {},
   "outputs": [
    {
     "name": "stdout",
     "output_type": "stream",
     "text": [
      "Is 'radar' a palindrome? True\n",
      "Is 'python' a palindrome? False\n"
     ]
    }
   ],
   "source": [
    "#10 Write a recursive Python function to check if a string is a palindrome.\n",
    "\n",
    "#ans \n",
    "\n",
    "def is_palindrome_recursive(s):\n",
    "    # Base case: an empty string or a string with one character is a palindrome\n",
    "    if len(s) <= 1:\n",
    "        return True\n",
    "    else:\n",
    "        # Recursive case: check if the first and last characters are equal\n",
    "        # and if the substring in between is a palindrome\n",
    "        return s[0] == s[-1] and is_palindrome_recursive(s[1:-1])\n",
    "\n",
    "# Example usage:\n",
    "test_string1 = \"radar\"\n",
    "test_string2 = \"python\"\n",
    "print(f\"Is '{test_string1}' a palindrome? {is_palindrome_recursive(test_string1)}\")\n",
    "print(f\"Is '{test_string2}' a palindrome? {is_palindrome_recursive(test_string2)}\")\n"
   ]
  },
  {
   "cell_type": "code",
   "execution_count": 106,
   "id": "75fac89f-03da-40d9-b4f6-e036a03c2834",
   "metadata": {},
   "outputs": [
    {
     "name": "stdout",
     "output_type": "stream",
     "text": [
      "All combinations of [1, 2, 3]: [[1, 2, 3], [1, 2], [1, 3], [1], [2, 3], [2], [3], []]\n"
     ]
    }
   ],
   "source": [
    "#11  Create a recursive Python function to generate all possible combinations of a list of elements.\n",
    "\n",
    "#ans \n",
    "\n",
    "def generate_combinations(elements):\n",
    "    # Base case: if the list is empty, return an empty list (one combination: an empty set)\n",
    "    if not elements:\n",
    "        return [[]]\n",
    "\n",
    "    # Recursive case: generate combinations with and without the first element\n",
    "    first_element = elements[0]\n",
    "    rest_combinations = generate_combinations(elements[1:])\n",
    "\n",
    "    # Combine the first element with each combination of the remaining elements\n",
    "    with_first_element = [[first_element] + combination for combination in rest_combinations]\n",
    "\n",
    "    # Combine without the first element with each combination of the remaining elements\n",
    "    without_first_element = generate_combinations(elements[1:])\n",
    "\n",
    "    # Concatenate the combinations with and without the first element\n",
    "    all_combinations = with_first_element + without_first_element\n",
    "\n",
    "    return all_combinations\n",
    "\n",
    "# Example usage:\n",
    "elements_list = [1, 2, 3]\n",
    "combinations = generate_combinations(elements_list)\n",
    "print(f\"All combinations of {elements_list}: {combinations}\")\n",
    "\n"
   ]
  },
  {
   "cell_type": "code",
   "execution_count": 108,
   "id": "bfe4b398-72a2-40c8-9520-7a7cb43a6e28",
   "metadata": {},
   "outputs": [],
   "source": [
    "# basic of FUNCTIONS\n"
   ]
  },
  {
   "cell_type": "code",
   "execution_count": 110,
   "id": "e86dd2b4-7146-4b25-842f-1913f98b4f2e",
   "metadata": {},
   "outputs": [
    {
     "data": {
      "text/plain": [
       "\"Functions are used for several reasons:\\n\\n1. **Modularity:** Functions allow you to break down a program into smaller, manageable pieces. Each function can perform a specific task, and the overall program becomes easier to understand and maintain.\\n\\n2. **Reuse of Code:** Once a function is defined, it can be called multiple times with different inputs. This promotes code reuse, reducing the need to duplicate code throughout the program.\\n\\n3. **Abstraction:** Functions allow you to abstract away the details of the implementation. When you call a function, you don't need to know how it's implemented; you just need to know what it does and what parameters it expects.\\n\\n4. **Readability:** Breaking down code into functions makes it more readable and understandable. Well-named functions can serve as documentation, describing the purpose of the code block.\\n\\n5. **Testing and Debugging:** Functions make it easier to test and debug code. You can focus on testing individual functions, making it simpler to identify and fix issues.\\n\\nHere's an example that demonstrates the benefits of functions in terms of code organization and reuse:\""
      ]
     },
     "execution_count": 110,
     "metadata": {},
     "output_type": "execute_result"
    }
   ],
   "source": [
    "#1 What is a function in Python, and why is it used?\n",
    "\n",
    "#ans \n",
    "\n",
    "#In Python, a function is a block of organized, reusable code that performs a specific task or a set of tasks. Functions provide a way to structure code, making it more modular and easier to understand, maintain, and reuse. In Python, you can define a function using the `def` keyword, followed by the function name, parameters, and a block of code.\n",
    "\n",
    "\n",
    "\n",
    "'''Functions are used for several reasons:\n",
    "\n",
    "1. **Modularity:** Functions allow you to break down a program into smaller, manageable pieces. Each function can perform a specific task, and the overall program becomes easier to understand and maintain.\n",
    "\n",
    "2. **Reuse of Code:** Once a function is defined, it can be called multiple times with different inputs. This promotes code reuse, reducing the need to duplicate code throughout the program.\n",
    "\n",
    "3. **Abstraction:** Functions allow you to abstract away the details of the implementation. When you call a function, you don't need to know how it's implemented; you just need to know what it does and what parameters it expects.\n",
    "\n",
    "4. **Readability:** Breaking down code into functions makes it more readable and understandable. Well-named functions can serve as documentation, describing the purpose of the code block.\n",
    "\n",
    "5. **Testing and Debugging:** Functions make it easier to test and debug code. You can focus on testing individual functions, making it simpler to identify and fix issues.\n",
    "\n",
    "Here's an example that demonstrates the benefits of functions in terms of code organization and reuse:'''\n",
    "\n",
    "\n"
   ]
  },
  {
   "cell_type": "code",
   "execution_count": 111,
   "id": "7cdf6d2d-88e6-4398-9c1f-41b594f1857d",
   "metadata": {},
   "outputs": [
    {
     "name": "stdout",
     "output_type": "stream",
     "text": [
      "The sum is: 7\n"
     ]
    }
   ],
   "source": [
    "#2 How do you define a function in Python? Provide an example.\n",
    "\n",
    "#ans \n",
    "\n",
    "def add_numbers(x, y):\n",
    "    \"\"\"This function adds two numbers and returns the result.\"\"\"\n",
    "    result = x + y\n",
    "    return result\n",
    "\n",
    "# Call the function\n",
    "sum_result = add_numbers(3, 4)\n",
    "print(f\"The sum is: {sum_result}\")\n"
   ]
  },
  {
   "cell_type": "code",
   "execution_count": 113,
   "id": "3fc07e43-f17d-43ea-9de4-de339e555cc7",
   "metadata": {},
   "outputs": [
    {
     "data": {
      "text/plain": [
       "'In Python, a function definition and a function call are distinct concepts that serve different purposes.\\n\\n1. **Function Definition:**\\n   - A function definition is the statement that creates a function and specifies its behavior.\\n   - It begins with the `def` keyword, followed by the function name, a pair of parentheses containing optional parameters, and a colon.\\n   - The function body is indented and contains the code to be executed when the function is called.\\n   - It may include a docstring (a string enclosed in triple quotes) that provides documentation for the function, describing its purpose and usage.\\n\\n\\n2. **Function Call:**\\n   - A function call is the statement that executes a previously defined function.\\n   - It involves using the function name followed by parentheses containing the actual values (arguments) or variables that will be used as parameters in the function.\\n   - When a function is called, the code within its body is executed, and the function may return a value.\\n\\n   Example of a function call:\\n   ```python\\n   sum_result = add_numbers(3, 4)\\n   ```\\n\\n   In this example, `add_numbers` is the function name, and `(3, 4)` are the arguments passed to the function. The result of the function call is stored in the variable `sum_result`.\\n\\nIn summary, a function definition is where you create the blueprint or logic of a function, specifying how it behaves, what parameters it takes, and what it returns. On the other hand, a function call is where you actually use the defined function by providing the necessary arguments and obtaining the result. The definition is where the function is created, while the call is where it is invoked and its logic is executed.'"
      ]
     },
     "execution_count": 113,
     "metadata": {},
     "output_type": "execute_result"
    }
   ],
   "source": [
    "#3 Explain the difference between a function definition and a function call.\n",
    "\n",
    "#ans \n",
    "\n",
    "'''In Python, a function definition and a function call are distinct concepts that serve different purposes.\n",
    "\n",
    "1. **Function Definition:**\n",
    "   - A function definition is the statement that creates a function and specifies its behavior.\n",
    "   - It begins with the `def` keyword, followed by the function name, a pair of parentheses containing optional parameters, and a colon.\n",
    "   - The function body is indented and contains the code to be executed when the function is called.\n",
    "   - It may include a docstring (a string enclosed in triple quotes) that provides documentation for the function, describing its purpose and usage.\n",
    "\n",
    "\n",
    "2. **Function Call:**\n",
    "   - A function call is the statement that executes a previously defined function.\n",
    "   - It involves using the function name followed by parentheses containing the actual values (arguments) or variables that will be used as parameters in the function.\n",
    "   - When a function is called, the code within its body is executed, and the function may return a value.\n",
    "\n",
    "   Example of a function call:\n",
    "   ```python\n",
    "   sum_result = add_numbers(3, 4)\n",
    "   ```\n",
    "\n",
    "   In this example, `add_numbers` is the function name, and `(3, 4)` are the arguments passed to the function. The result of the function call is stored in the variable `sum_result`.\n",
    "\n",
    "In summary, a function definition is where you create the blueprint or logic of a function, specifying how it behaves, what parameters it takes, and what it returns. On the other hand, a function call is where you actually use the defined function by providing the necessary arguments and obtaining the result. The definition is where the function is created, while the call is where it is invoked and its logic is executed.'''"
   ]
  },
  {
   "cell_type": "code",
   "execution_count": 114,
   "id": "88fa43f9-b393-441c-9ee0-d67a68d0af18",
   "metadata": {},
   "outputs": [
    {
     "name": "stdout",
     "output_type": "stream",
     "text": [
      "The sum of 5 and 7 is: 12\n"
     ]
    }
   ],
   "source": [
    "#4 Write a Python program that defines a function to calculate the sum of two numbers and then calls the function.\n",
    "\n",
    "#ans \n",
    "\n",
    "# Function definition\n",
    "def calculate_sum(x, y):\n",
    "    \"\"\"This function calculates the sum of two numbers.\"\"\"\n",
    "    result = x + y\n",
    "    return result\n",
    "\n",
    "# Function call\n",
    "num1 = 5\n",
    "num2 = 7\n",
    "sum_result = calculate_sum(num1, num2)\n",
    "\n",
    "# Display the result\n",
    "print(f\"The sum of {num1} and {num2} is: {sum_result}\")\n"
   ]
  },
  {
   "cell_type": "code",
   "execution_count": 115,
   "id": "183b91e7-f81d-43d0-adf6-56ece8dd796f",
   "metadata": {},
   "outputs": [],
   "source": [
    "#5 What is a function signature, and what information does it typically include?\n",
    "\n",
    "#ans \n",
    "\n",
    "def calculate_sum(x: int, y: int) -> int:\n",
    "    \"\"\"\n",
    "    This function calculates the sum of two numbers.\n",
    "    \n",
    "    Parameters:\n",
    "    - x (int): The first number.\n",
    "    - y (int): The second number.\n",
    "    \n",
    "    Returns:\n",
    "    - int: The sum of x and y.\n",
    "    \"\"\"\n",
    "    result = x + y\n",
    "    return result\n"
   ]
  },
  {
   "cell_type": "code",
   "execution_count": 116,
   "id": "f04c691d-3a68-4244-95ef-5a8be3ca62f2",
   "metadata": {},
   "outputs": [
    {
     "name": "stdout",
     "output_type": "stream",
     "text": [
      "The product of 4 and 7 is: 28\n"
     ]
    }
   ],
   "source": [
    "#6 Create a Python function that takes two arguments and returns their product.\n",
    "\n",
    "#ans \n",
    "\n",
    "def calculate_product(x, y):\n",
    "    \"\"\"\n",
    "    This function calculates the product of two numbers.\n",
    "    \n",
    "    Parameters:\n",
    "    - x: The first number.\n",
    "    - y: The second number.\n",
    "    \n",
    "    Returns:\n",
    "    - The product of x and y.\n",
    "    \"\"\"\n",
    "    result = x * y\n",
    "    return result\n",
    "\n",
    "# Example usage:\n",
    "num1 = 4\n",
    "num2 = 7\n",
    "product_result = calculate_product(num1, num2)\n",
    "\n",
    "# Display the result\n",
    "print(f\"The product of {num1} and {num2} is: {product_result}\")\n",
    "\n"
   ]
  },
  {
   "cell_type": "code",
   "execution_count": 117,
   "id": "fce74a21-27d2-48d5-bbd1-707df5c641c5",
   "metadata": {},
   "outputs": [],
   "source": [
    "#Function Parameters and Arguments:\n"
   ]
  },
  {
   "cell_type": "code",
   "execution_count": 118,
   "id": "1b3bfd09-63af-4bb2-a7a0-20430de54909",
   "metadata": {},
   "outputs": [
    {
     "ename": "SyntaxError",
     "evalue": "incomplete input (505305390.py, line 5)",
     "output_type": "error",
     "traceback": [
      "\u001b[1;36m  Cell \u001b[1;32mIn[118], line 5\u001b[1;36m\u001b[0m\n\u001b[1;33m    '''In Python functions, the terms \"formal parameters\" and \"actual arguments\" refer to the variables used in the function definition (parameters) and the values supplied when calling the function (arguments), respectively.\u001b[0m\n\u001b[1;37m    ^\u001b[0m\n\u001b[1;31mSyntaxError\u001b[0m\u001b[1;31m:\u001b[0m incomplete input\n"
     ]
    }
   ],
   "source": [
    "#1 Explain the concepts of formal parameters and actual arguments in Python functions.\n",
    "\n",
    "#ans \n",
    "\n",
    "'''In Python functions, the terms \"formal parameters\" and \"actual arguments\" refer to the variables used in the function definition (parameters) and the values supplied when calling the function (arguments), respectively.\n",
    "\n",
    "1. **Formal Parameters:**\n",
    "   - Formal parameters are the variables listed in the function definition. They act as placeholders for the values that will be passed into the function when it is called.\n",
    "   - These parameters are mentioned in the parentheses following the function name and serve as local variables within the function.\n",
    "   - Formal parameters determine the number and order of arguments expected by the function.\n",
    "   - Example:\n",
    "     ```python\n",
    "     def add_numbers(x, y):\n",
    "         \"\"\"This function adds two numbers.\"\"\"\n",
    "         result = x + y\n",
    "         return result\n",
    "     ```\n",
    "     In this example, `x` and `y` are formal parameters.\n",
    "\n",
    "2. **Actual Arguments:**\n",
    "   - Actual arguments, also known as arguments or parameters during the function call, are the values passed into the function when it is invoked.\n",
    "   - These values are assigned to the corresponding formal parameters in the function definition.\n",
    "   - There are different ways to pass actual arguments, such as positional arguments, keyword arguments, default arguments, and variable-length arguments.\n",
    "   - Example:\n",
    "     ```python\n",
    "     result = add_numbers(3, 5)\n",
    "     ```\n",
    "     In this example, `3` and `5` are actual arguments passed to the `add_numbers` function.\n",
    "\n",
    "Here's a breakdown using the example function:\n",
    "\n",
    "```python\n",
    "def add_numbers(x, y):  # x and y are formal parameters\n",
    "    \"\"\"This function adds two numbers.\"\"\"\n",
    "    result = x + y\n",
    "    return result\n",
    "\n",
    "result = add_numbers(3, 5)  # 3 and 5 are actual arguments\n",
    "```\n",
    "\n",
    "In this case:\n",
    "- `x` and `y` in the function definition are formal parameters.\n",
    "- `3` and `5` in the function call are actual arguments.\n",
    "\n",
    "\n",
    "The values of the actual arguments (`3` and `5`) are assigned to the corresponding formal parameters (`x` and `y`) when the function is called. The function then operates on these values and returns the result.'';"
   ]
  },
  {
   "cell_type": "code",
   "execution_count": 119,
   "id": "88ff5800-9126-4695-b81b-164ae25a9428",
   "metadata": {},
   "outputs": [
    {
     "name": "stdout",
     "output_type": "stream",
     "text": [
      "Hello, Alice!\n",
      "Hi, Bob!\n"
     ]
    }
   ],
   "source": [
    "# Write a Python program that defines a function with default argument values.\n",
    "\n",
    "#ans \n",
    "\n",
    "def greet(name, greeting=\"Hello\"):\n",
    "    \"\"\"This function greets a person with an optional custom greeting.\"\"\"\n",
    "    message = f\"{greeting}, {name}!\"\n",
    "    return message\n",
    "\n",
    "# Example usage without providing a custom greeting\n",
    "result1 = greet(\"Alice\")\n",
    "print(result1)\n",
    "\n",
    "# Example usage with a custom greeting\n",
    "result2 = greet(\"Bob\", greeting=\"Hi\")\n",
    "print(result2)\n"
   ]
  },
  {
   "cell_type": "code",
   "execution_count": 120,
   "id": "cf381b7f-be16-41c1-99b9-a1183f11f0a8",
   "metadata": {},
   "outputs": [
    {
     "name": "stdout",
     "output_type": "stream",
     "text": [
      "Area 1: 15\n",
      "Area 2: 24\n"
     ]
    }
   ],
   "source": [
    "#3 How do you use keyword arguments in Python function calls? Provide an example.\n",
    "\n",
    "#ans \n",
    "\n",
    "def calculate_rectangle_area(length, width):\n",
    "    \"\"\"This function calculates the area of a rectangle.\"\"\"\n",
    "    area = length * width\n",
    "    return area\n",
    "\n",
    "# Using positional arguments\n",
    "area1 = calculate_rectangle_area(5, 3)\n",
    "print(f\"Area 1: {area1}\")\n",
    "\n",
    "# Using keyword arguments\n",
    "area2 = calculate_rectangle_area(width=4, length=6)\n",
    "print(f\"Area 2: {area2}\")\n"
   ]
  },
  {
   "cell_type": "code",
   "execution_count": 121,
   "id": "0787f618-b2b5-432c-b5c6-510d4ba7a714",
   "metadata": {},
   "outputs": [
    {
     "name": "stdout",
     "output_type": "stream",
     "text": [
      "Sum 1: 10\n",
      "Sum 2: 70\n"
     ]
    }
   ],
   "source": [
    "#4 Create a Python function that accepts a variable number of arguments and calculates their sum.\n",
    "\n",
    "#ans \n",
    "\n",
    "def calculate_sum(*args):\n",
    "    \"\"\"This function calculates the sum of variable arguments.\"\"\"\n",
    "    total_sum = sum(args)\n",
    "    return total_sum\n",
    "\n",
    "# Example usage\n",
    "result1 = calculate_sum(2, 3, 5)\n",
    "print(f\"Sum 1: {result1}\")\n",
    "\n",
    "result2 = calculate_sum(10, 15, 20, 25)\n",
    "print(f\"Sum 2: {result2}\")\n"
   ]
  },
  {
   "cell_type": "code",
   "execution_count": 122,
   "id": "af15f1f5-6121-4b72-96c5-904bc817a701",
   "metadata": {},
   "outputs": [
    {
     "name": "stdout",
     "output_type": "stream",
     "text": [
      "name: Alice\n",
      "age: 25\n",
      "city: Wonderland\n"
     ]
    }
   ],
   "source": [
    "#5 What is the purpose of the `*args` and `**kwargs` syntax in function parameter lists?\n",
    "\n",
    "#ans \n",
    "\n",
    "def print_kwargs(**kwargs):\n",
    "    for key, value in kwargs.items():\n",
    "        print(f\"{key}: {value}\")\n",
    "\n",
    "print_kwargs(name=\"Alice\", age=25, city=\"Wonderland\")\n"
   ]
  },
  {
   "cell_type": "code",
   "execution_count": 123,
   "id": "fc330f04-6d3c-4613-8438-7ce707f003c8",
   "metadata": {},
   "outputs": [],
   "source": [
    "#Return Values and Scoping:\n"
   ]
  },
  {
   "cell_type": "code",
   "execution_count": 125,
   "id": "beeb555f-0044-404e-b181-285a1b1b871d",
   "metadata": {},
   "outputs": [],
   "source": [
    "#1 Describe the role of the `return` statement in Python functions and provide examples.\n",
    "\n",
    "#ans \n",
    "\n",
    "#In Python, the `return` statement is used within a function to specify the value(s) that the function will produce or to indicate that the function should exit prematurely. The `return` statement is crucial because it allows a function to send a result back to the caller or indicate that the function should terminate.\n",
    "\n"
   ]
  },
  {
   "cell_type": "code",
   "execution_count": 126,
   "id": "398a1d20-8d0f-42b9-bdc9-2902905b3a94",
   "metadata": {},
   "outputs": [],
   "source": [
    "#2 Explain the concept of variable scope in Python, including local and global variables.\n",
    "\n",
    "#ans \n",
    "\n",
    "#In Python, the variable scope refers to the region of the program where a variable can be accessed or modified. The scope of a variable determines where in the code the variable is valid and has meaning. Python has two main types of variable scope: local scope and global scope.\n"
   ]
  },
  {
   "cell_type": "code",
   "execution_count": 127,
   "id": "91e10057-24d4-4253-8983-ad411506d88d",
   "metadata": {},
   "outputs": [
    {
     "name": "stdout",
     "output_type": "stream",
     "text": [
      "Before function call: I am a global variable\n",
      "Inside the function: I am a global variable\n",
      "After function call: Modified global variable\n"
     ]
    }
   ],
   "source": [
    "#3 Write a Python program that demonstrates the use of global variables within functions.\n",
    "\n",
    "#ans \n",
    "\n",
    "# Global variable\n",
    "global_variable = \"I am a global variable\"\n",
    "\n",
    "def print_global_variable():\n",
    "    # Access global variable within the function\n",
    "    print(\"Inside the function:\", global_variable)\n",
    "\n",
    "def modify_global_variable():\n",
    "    # Modify the global variable within the function\n",
    "    global global_variable\n",
    "    global_variable = \"Modified global variable\"\n",
    "\n",
    "# Display the global variable before calling the function\n",
    "print(\"Before function call:\", global_variable)\n",
    "\n",
    "# Call the function to print the global variable\n",
    "print_global_variable()\n",
    "\n",
    "# Call the function to modify the global variable\n",
    "modify_global_variable()\n",
    "\n",
    "# Display the global variable after calling the function\n",
    "print(\"After function call:\", global_variable)\n"
   ]
  },
  {
   "cell_type": "code",
   "execution_count": 128,
   "id": "d16740ea-3993-42db-bb6f-be20f8db4c87",
   "metadata": {},
   "outputs": [
    {
     "name": "stdout",
     "output_type": "stream",
     "text": [
      "The factorial of 5 is: 120\n"
     ]
    }
   ],
   "source": [
    "#4 Create a Python function that calculates the factorial of a number and returns it.\n",
    "\n",
    "#ans \n",
    "\n",
    "def factorial(n):\n",
    "    \"\"\"Calculate the factorial of a non-negative integer.\"\"\"\n",
    "    if n < 0:\n",
    "        raise ValueError(\"Factorial is defined only for non-negative integers.\")\n",
    "    elif n == 0 or n == 1:\n",
    "        return 1\n",
    "    else:\n",
    "        result = 1\n",
    "        for i in range(2, n + 1):\n",
    "            result *= i\n",
    "        return result\n",
    "\n",
    "# Example usage:\n",
    "number = 5\n",
    "factorial_result = factorial(number)\n",
    "print(f\"The factorial of {number} is: {factorial_result}\")\n"
   ]
  },
  {
   "cell_type": "code",
   "execution_count": 129,
   "id": "26d6be3e-7136-4d1a-9c23-a740fd8c390e",
   "metadata": {},
   "outputs": [
    {
     "name": "stdout",
     "output_type": "stream",
     "text": [
      "After function call: Modified global variable\n"
     ]
    }
   ],
   "source": [
    "#5 How can you access variables defined outside a function from within the function?\n",
    "\n",
    "#ans \n",
    "\n",
    "global_variable = \"I am a global variable\"\n",
    "\n",
    "def modify_global_variable():\n",
    "    global global_variable\n",
    "    global_variable = \"Modified global variable\"\n",
    "\n",
    "# Call the function to modify the global variable\n",
    "modify_global_variable()\n",
    "print(\"After function call:\", global_variable)\n"
   ]
  },
  {
   "cell_type": "code",
   "execution_count": 130,
   "id": "1877b293-6f6f-4c1f-8fc2-5767f9a4edaf",
   "metadata": {},
   "outputs": [],
   "source": [
    "# Lambda Functions and Higher-Order Functions:\n",
    "\n"
   ]
  },
  {
   "cell_type": "code",
   "execution_count": 132,
   "id": "82dd0c22-d397-4de7-8105-2b120e3b4f44",
   "metadata": {},
   "outputs": [],
   "source": [
    "#1 What are lambda functions in Python, and when are they typically used?\n",
    "\n",
    "#ans \n",
    "\n",
    "#In Python, a lambda function is a small, anonymous, and inline function defined using the `lambda` keyword. Lambda functions are often used for short-lived operations where a full function definition using `def` would be overly verbose. They are also known as anonymous functions because they don't have a name.\n"
   ]
  },
  {
   "cell_type": "code",
   "execution_count": 133,
   "id": "c71ba838-b67f-48dd-851d-6e7e12c1652d",
   "metadata": {},
   "outputs": [
    {
     "name": "stdout",
     "output_type": "stream",
     "text": [
      "Sorted List based on the second element:\n",
      "(6, 1)\n",
      "(3, 2)\n",
      "(1, 4)\n",
      "(2, 7)\n",
      "(5, 8)\n"
     ]
    }
   ],
   "source": [
    "#2 Write a Python program that uses lambda functions to sort a list of tuples based on the second element.\n",
    "\n",
    "#ans \n",
    "\n",
    "# List of tuples\n",
    "data = [(1, 4), (3, 2), (5, 8), (2, 7), (6, 1)]\n",
    "\n",
    "# Sorting the list of tuples based on the second element using a lambda function\n",
    "sorted_data = sorted(data, key=lambda x: x[1])\n",
    "\n",
    "# Display the sorted list\n",
    "print(\"Sorted List based on the second element:\")\n",
    "for item in sorted_data:\n",
    "    print(item)\n"
   ]
  },
  {
   "cell_type": "code",
   "execution_count": 134,
   "id": "15fc7170-bfb0-433e-947a-7829c6c170d8",
   "metadata": {},
   "outputs": [],
   "source": [
    "#3 Explain the concept of higher-order functions in Python, and provide an example.\n",
    "\n",
    "#ans \n",
    "\n",
    "#In Python, higher-order functions are functions that can take other functions as arguments, return functions as results, or both. This concept is rooted in functional programming and allows for the abstraction of common patterns, leading to more modular and reusable code."
   ]
  },
  {
   "cell_type": "code",
   "execution_count": 135,
   "id": "763d9acf-1c0c-4a91-ad01-33b9b026aa7e",
   "metadata": {},
   "outputs": [
    {
     "name": "stdout",
     "output_type": "stream",
     "text": [
      "Original Numbers: [1, 2, 3, 4, 5]\n",
      "Squared Numbers: [1, 4, 9, 16, 25]\n"
     ]
    }
   ],
   "source": [
    "#4 Create a Python function that takes a list of numbers and a function as arguments, applying the function to each element in the list.\n",
    "\n",
    "#ans \n",
    "\n",
    "def apply_function_to_list(numbers, operation):\n",
    "    \"\"\"\n",
    "    Apply the given operation (function) to each element in the list.\n",
    "\n",
    "    Parameters:\n",
    "    - numbers (list): List of numbers.\n",
    "    - operation (function): The operation to apply to each element.\n",
    "\n",
    "    Returns:\n",
    "    - list: List containing the results of applying the operation to each element.\n",
    "    \"\"\"\n",
    "    result = []\n",
    "    for number in numbers:\n",
    "        result.append(operation(number))\n",
    "    return result\n",
    "\n",
    "# Example usage: Square each element in a list\n",
    "numbers = [1, 2, 3, 4, 5]\n",
    "\n",
    "# Define a function to square a number\n",
    "def square(x):\n",
    "    return x ** 2\n",
    "\n",
    "# Use the function to apply the square operation to each element\n",
    "squared_numbers = apply_function_to_list(numbers, square)\n",
    "\n",
    "# Display the result\n",
    "print(\"Original Numbers:\", numbers)\n",
    "print(\"Squared Numbers:\", squared_numbers)\n"
   ]
  },
  {
   "cell_type": "code",
   "execution_count": 136,
   "id": "3f5e945f-ac4c-4ae3-a8cc-923e2b5761d5",
   "metadata": {},
   "outputs": [],
   "source": [
    "#buikt in functuions"
   ]
  },
  {
   "cell_type": "code",
   "execution_count": 137,
   "id": "7e0a65b8-6900-422a-a859-5a5160d044ca",
   "metadata": {},
   "outputs": [
    {
     "data": {
      "text/plain": [
       "'Built-in functions like `len()`, `max()`, and `min()` in Python are used for:\\n\\n- `len()`: Obtaining the length (number of elements) of a sequence (e.g., string, list, tuple).\\n- `max()`: Finding the maximum element in an iterable or the maximum of two or more arguments.\\n- `min()`: Finding the minimum element in an iterable or the minimum of two or more arguments.'"
      ]
     },
     "execution_count": 137,
     "metadata": {},
     "output_type": "execute_result"
    }
   ],
   "source": [
    "#1 Describe the role of built-in functions like `len()`, `max()`, and `min()` in Python.\n",
    "\n",
    "#ans \n",
    "\n",
    "'''Built-in functions like `len()`, `max()`, and `min()` in Python are used for:\n",
    "\n",
    "- `len()`: Obtaining the length (number of elements) of a sequence (e.g., string, list, tuple).\n",
    "- `max()`: Finding the maximum element in an iterable or the maximum of two or more arguments.\n",
    "- `min()`: Finding the minimum element in an iterable or the minimum of two or more arguments.'''"
   ]
  },
  {
   "cell_type": "code",
   "execution_count": 138,
   "id": "4082f5f7-fd5a-477e-b82b-abd801a4a513",
   "metadata": {},
   "outputs": [
    {
     "name": "stdout",
     "output_type": "stream",
     "text": [
      "Original Numbers: [1, 2, 3, 4, 5]\n",
      "Squared Numbers: [1, 4, 9, 16, 25]\n"
     ]
    }
   ],
   "source": [
    "#2 Write a Python program that uses the `map()` function to apply a function to each element of a list.\n",
    "\n",
    "#ans \n",
    "\n",
    "# Define a function to square a number\n",
    "def square(x):\n",
    "    return x ** 2\n",
    "\n",
    "# List of numbers\n",
    "numbers = [1, 2, 3, 4, 5]\n",
    "\n",
    "# Use the map() function to apply the square function to each element in the list\n",
    "squared_numbers = list(map(square, numbers))\n",
    "\n",
    "# Display the result\n",
    "print(\"Original Numbers:\", numbers)\n",
    "print(\"Squared Numbers:\", squared_numbers)\n"
   ]
  },
  {
   "cell_type": "code",
   "execution_count": 139,
   "id": "d7f3f911-0019-434c-8737-1dd86b11f072",
   "metadata": {},
   "outputs": [],
   "source": [
    "#3 How does the `filter()` function work in Python, and when would you use it?\n",
    "\n",
    "#ans The `filter()` function in Python constructs an iterator by applying a given function to each element of an iterable, returning only the elements for which the function evaluates to `True`; it is used to selectively filter elements based on a specified condition.\n"
   ]
  },
  {
   "cell_type": "code",
   "execution_count": 140,
   "id": "bc3cc95a-dd38-43eb-9d79-fcbb7989e396",
   "metadata": {},
   "outputs": [
    {
     "name": "stdout",
     "output_type": "stream",
     "text": [
      "List of Numbers: [2, 3, 4, 5]\n",
      "Product of Numbers: 120\n"
     ]
    }
   ],
   "source": [
    "#4 Create a Python program that uses the `reduce()` function to find the product of all elements in a list.\n",
    "\n",
    "#ans \n",
    "\n",
    "from functools import reduce\n",
    "\n",
    "# Define a function to multiply two numbers\n",
    "def multiply(x, y):\n",
    "    return x * y\n",
    "\n",
    "# List of numbers\n",
    "numbers = [2, 3, 4, 5]\n",
    "\n",
    "# Use the reduce() function to find the product of all elements in the list\n",
    "product = reduce(multiply, numbers)\n",
    "\n",
    "# Display the result\n",
    "print(\"List of Numbers:\", numbers)\n",
    "print(\"Product of Numbers:\", product)\n"
   ]
  },
  {
   "cell_type": "code",
   "execution_count": 141,
   "id": "e393592b-3d16-449a-b5ee-dca7923ea70b",
   "metadata": {},
   "outputs": [],
   "source": [
    "#Function Documentation and Best Practices:"
   ]
  },
  {
   "cell_type": "code",
   "execution_count": 142,
   "id": "e7812240-eaa2-4deb-847c-606e449e8518",
   "metadata": {},
   "outputs": [],
   "source": [
    "#1 Explain the purpose of docstrings in Python functions and how to write them.\n",
    "\n",
    "#ans In Python, docstrings (documentation strings) are used to provide documentation for functions, classes, modules, or methods. They serve the purpose of documenting the purpose, usage, and parameters of a function, making it easier for developers to understand and use the code.\n",
    "\n"
   ]
  },
  {
   "cell_type": "code",
   "execution_count": 143,
   "id": "43768cfd-69a4-4b91-8974-9f558b18ba29",
   "metadata": {},
   "outputs": [],
   "source": [
    "#Describe some best practices for naming functions and variables in Python, including naming conventions and guidelines.\n",
    "\n",
    "#ans \n",
    "\n",
    "\n",
    "#Use descriptive and meaningful names, follow PEP 8 conventions (snake_case for functions and variables, uppercase for constants), start functions with verbs, avoid single-letter names, and maintain consistency within your codebase for readability and maintainability."
   ]
  },
  {
   "cell_type": "code",
   "execution_count": null,
   "id": "f118787f-f6ce-4232-a810-61a18537afa5",
   "metadata": {},
   "outputs": [],
   "source": [
    "#COMPLETED"
   ]
  }
 ],
 "metadata": {
  "kernelspec": {
   "display_name": "Python 3 (ipykernel)",
   "language": "python",
   "name": "python3"
  },
  "language_info": {
   "codemirror_mode": {
    "name": "ipython",
    "version": 3
   },
   "file_extension": ".py",
   "mimetype": "text/x-python",
   "name": "python",
   "nbconvert_exporter": "python",
   "pygments_lexer": "ipython3",
   "version": "3.12.0"
  }
 },
 "nbformat": 4,
 "nbformat_minor": 5
}
